{
 "cells": [
  {
   "cell_type": "code",
   "execution_count": 1,
   "metadata": {},
   "outputs": [],
   "source": [
    "from selenium import webdriver # Importa driver para navegadores pelo selenium\n",
    "from selenium.webdriver.common.by import By # Importando classe By que server para selecionar os elementos\n",
    "driver = webdriver.Chrome() # Declara que driver é do chrome"
   ]
  },
  {
   "cell_type": "code",
   "execution_count": 2,
   "metadata": {},
   "outputs": [],
   "source": [
    "driver.get('http://localhost:8000/#/exemplo/2') # Declaro pagina que estou acessando"
   ]
  },
  {
   "cell_type": "code",
   "execution_count": 8,
   "metadata": {},
   "outputs": [],
   "source": [
    "email = driver.find_element(By.CSS_SELECTOR, r'#radix-\\:r0\\:')\n",
    "senha = driver.find_element(By.CSS_SELECTOR, r'#radix-\\:r1\\:')\n",
    "buttonSend = driver.find_element(By.CSS_SELECTOR, r'#root > div > div.main-container > main > div.relative.bg-white.dark\\:bg-gray-800.px-6.pt-10.pb-8.shadow-xl.ring-1.ring-gray-900\\/5.rounded-lg.sm\\:px-10 > div > form > button')"
   ]
  },
  {
   "cell_type": "code",
   "execution_count": null,
   "metadata": {},
   "outputs": [],
   "source": [
    "email.send_keys('teste@email.com')\n",
    "senha.send_keys('123')\n",
    "\n",
    "buttonSend.click()"
   ]
  },
  {
   "cell_type": "code",
   "execution_count": null,
   "metadata": {},
   "outputs": [],
   "source": [
    "email.clear() #Limpa campos de testo\n",
    "senha.clear()\n",
    "\n",
    "email.send_keys('teste2@email.com')\n",
    "senha.send_keys('1234')\n",
    "\n",
    "buttonSend.click()"
   ]
  },
  {
   "cell_type": "code",
   "execution_count": null,
   "metadata": {},
   "outputs": [],
   "source": [
    "email.clear() #Limpa campos de testo\n",
    "senha.clear()\n",
    "\n",
    "email.send_keys('vamove@email.com')\n",
    "senha.send_keys('12345')\n",
    "\n",
    "email.submit() #Substitui buttonSend.click()"
   ]
  },
  {
   "cell_type": "code",
   "execution_count": null,
   "metadata": {},
   "outputs": [],
   "source": [
    "email.clear() #Limpa campos de testo\n",
    "senha.clear()\n",
    "\n",
    "email.send_keys('vamove2@email.com')\n",
    "senha.send_keys('123456')\n",
    "\n",
    "senha.submit() #Substitui buttonSend.click() com agrupamento do form"
   ]
  },
  {
   "cell_type": "code",
   "execution_count": null,
   "metadata": {},
   "outputs": [],
   "source": [
    "email.clear() #Limpa campos de testo\n",
    "senha.clear()\n",
    "\n",
    "email.send_keys('email@email.com')\n",
    "senha.send_keys('1234567')\n",
    "\n",
    "email.submit() #Substitui buttonSend.click() com agrupamento do form"
   ]
  },
  {
   "cell_type": "code",
   "execution_count": null,
   "metadata": {},
   "outputs": [],
   "source": [
    "from selenium.webdriver.common.keys import Keys # Importo todas as teclas do teclado pelo pacote do Selenium\n",
    "\n",
    "email.clear() #Limpa campos de testo\n",
    "senha.clear()\n",
    "\n",
    "email.send_keys('email2@email.com')\n",
    "senha.send_keys('1234567')\n",
    "\n",
    "email.send_keys(Keys.ENTER) #Substitui buttonSend.click() com tecla ENTER"
   ]
  },
  {
   "cell_type": "code",
   "execution_count": null,
   "metadata": {},
   "outputs": [],
   "source": []
  }
 ],
 "metadata": {
  "kernelspec": {
   "display_name": "venv",
   "language": "python",
   "name": "python3"
  },
  "language_info": {
   "codemirror_mode": {
    "name": "ipython",
    "version": 3
   },
   "file_extension": ".py",
   "mimetype": "text/x-python",
   "name": "python",
   "nbconvert_exporter": "python",
   "pygments_lexer": "ipython3",
   "version": "3.13.1"
  }
 },
 "nbformat": 4,
 "nbformat_minor": 2
}
