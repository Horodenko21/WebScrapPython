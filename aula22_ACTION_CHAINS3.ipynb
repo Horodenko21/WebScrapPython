{
 "cells": [
  {
   "cell_type": "code",
   "execution_count": 1,
   "metadata": {},
   "outputs": [],
   "source": [
    "from selenium import webdriver # Importa driver para navegadores pelo selenium\n",
    "from selenium.webdriver.common.by import By # Importando classe By que server para selecionar os elementos\n",
    "from selenium.webdriver.common.keys import Keys # Importo todas as teclas do teclado pelo pacote do Selenium\n",
    "from selenium.webdriver.support.ui import Select # Import necessario para selecao de elementos em dropdown/selector\n",
    "from selenium.webdriver.support.wait import WebDriverWait # Import da classe WAIT, serve para dizer o quanto se deve esperar pro navegador\n",
    "from selenium.webdriver.support import expected_conditions as EC # Import de expected_conditions, e da nome reduzido (alias) EC\n",
    "from dataclasses import dataclass # Import dataclass, como se fosse um objeto\n",
    "import urllib.request # Import request para fazer uma requisicao para um determinado link e pegar todas as informacoes de determinado link\n",
    "import os # Permite trabalhar com o Sistema Operacional\n",
    "from selenium.webdriver.common.action_chains import ActionChains # Import da classe ActionChains\n",
    "from pandas.io.clipboard import clipboard_set, clipboard_get # Import para mexer com menu de contexto\n",
    "\n",
    "driver = webdriver.Chrome() # Declara que driver é do chrome\n",
    "driver.implicitly_wait(time_to_wait=10)"
   ]
  },
  {
   "cell_type": "code",
   "execution_count": 2,
   "metadata": {},
   "outputs": [],
   "source": [
    "driver.get('http://localhost:8000/#/exemplo/2') # Declaro pagina que estou acessando"
   ]
  },
  {
   "cell_type": "code",
   "execution_count": 3,
   "metadata": {},
   "outputs": [],
   "source": [
    "mail = driver.find_element(By.NAME, 'email')\n",
    "passkey = driver.find_element(By.NAME, 'senha')"
   ]
  },
  {
   "cell_type": "code",
   "execution_count": 10,
   "metadata": {},
   "outputs": [],
   "source": [
    "(\n",
    "    ActionChains(driver)\n",
    "    .send_keys_to_element(mail, 'leo@leo.com')\n",
    "    .send_keys_to_element(passkey, '123')\n",
    "    .send_keys_to_element(passkey, Keys.ENTER)\n",
    "    .perform()\n",
    ")"
   ]
  },
  {
   "cell_type": "markdown",
   "metadata": {},
   "source": [
    "# Encadear acoes"
   ]
  },
  {
   "cell_type": "code",
   "execution_count": 7,
   "metadata": {},
   "outputs": [],
   "source": [
    "actions = ActionChains(driver)"
   ]
  },
  {
   "cell_type": "code",
   "execution_count": 11,
   "metadata": {},
   "outputs": [],
   "source": [
    "actions.click(mail)\n",
    "actions.key_down(Keys.CONTROL)\n",
    "actions.key_down('a')\n",
    "actions.key_up(Keys.CONTROL)\n",
    "actions.send_keys(Keys.DELETE)\n",
    "actions.perform()\n",
    "actions.click(passkey)\n",
    "actions.key_down(Keys.CONTROL)\n",
    "actions.key_down('a')\n",
    "actions.key_up(Keys.CONTROL)\n",
    "actions.send_keys(Keys.DELETE)\n",
    "actions.perform()"
   ]
  },
  {
   "cell_type": "code",
   "execution_count": 9,
   "metadata": {},
   "outputs": [],
   "source": [
    "actions.perform()"
   ]
  },
  {
   "cell_type": "code",
   "execution_count": null,
   "metadata": {},
   "outputs": [],
   "source": []
  },
  {
   "cell_type": "code",
   "execution_count": null,
   "metadata": {},
   "outputs": [],
   "source": []
  },
  {
   "cell_type": "code",
   "execution_count": null,
   "metadata": {},
   "outputs": [],
   "source": []
  },
  {
   "cell_type": "code",
   "execution_count": null,
   "metadata": {},
   "outputs": [],
   "source": []
  },
  {
   "cell_type": "code",
   "execution_count": null,
   "metadata": {},
   "outputs": [],
   "source": []
  }
 ],
 "metadata": {
  "kernelspec": {
   "display_name": "venv",
   "language": "python",
   "name": "python3"
  },
  "language_info": {
   "codemirror_mode": {
    "name": "ipython",
    "version": 3
   },
   "file_extension": ".py",
   "mimetype": "text/x-python",
   "name": "python",
   "nbconvert_exporter": "python",
   "pygments_lexer": "ipython3",
   "version": "3.13.1"
  }
 },
 "nbformat": 4,
 "nbformat_minor": 2
}
