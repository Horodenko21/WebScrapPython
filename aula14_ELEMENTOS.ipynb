{
 "cells": [
  {
   "cell_type": "code",
   "execution_count": 2,
   "metadata": {},
   "outputs": [],
   "source": [
    "from selenium import webdriver # Importa driver para navegadores pelo selenium\n",
    "from selenium.webdriver.common.by import By # Importando classe By que server para selecionar os elementos\n",
    "from selenium.webdriver.common.keys import Keys # Importo todas as teclas do teclado pelo pacote do Selenium\n",
    "from selenium.webdriver.support.ui import Select # Import necessario para selecao de elementos em dropdown/selector\n",
    "from selenium.webdriver.support.wait import WebDriverWait # Import da classe WAIT, serve para dizer o quanto se deve esperar pro navegador\n",
    "from selenium.webdriver.support import expected_conditions as EC # Import de expected_conditions, e da nome reduzido (alias) EC\n",
    "from dataclasses import dataclass # Import dataclass, como se fosse um objeto\n",
    "\n",
    "driver = webdriver.Chrome() # Declara que driver é do chrome\n",
    "driver.implicitly_wait(time_to_wait=10)"
   ]
  },
  {
   "cell_type": "code",
   "execution_count": 3,
   "metadata": {},
   "outputs": [],
   "source": [
    "driver.get('http://localhost:8000/#/exemplo/6') # Declaro pagina que estou acessando"
   ]
  },
  {
   "cell_type": "code",
   "execution_count": 4,
   "metadata": {},
   "outputs": [],
   "source": [
    "estados = driver.find_element(By.ID, 'estados')"
   ]
  },
  {
   "cell_type": "markdown",
   "metadata": {},
   "source": [
    "# Attribute"
   ]
  },
  {
   "cell_type": "code",
   "execution_count": 6,
   "metadata": {},
   "outputs": [
    {
     "data": {
      "text/plain": [
       "'flex flex-wrap justify-start lg:mx-auto gap-8 text-left'"
      ]
     },
     "execution_count": 6,
     "metadata": {},
     "output_type": "execute_result"
    }
   ],
   "source": [
    "estados.get_attribute('class')"
   ]
  },
  {
   "cell_type": "code",
   "execution_count": 7,
   "metadata": {},
   "outputs": [
    {
     "data": {
      "text/plain": [
       "'estados'"
      ]
     },
     "execution_count": 7,
     "metadata": {},
     "output_type": "execute_result"
    }
   ],
   "source": [
    "estados.get_attribute('id')"
   ]
  },
  {
   "cell_type": "markdown",
   "metadata": {},
   "source": [
    "# Property"
   ]
  },
  {
   "cell_type": "code",
   "execution_count": 11,
   "metadata": {},
   "outputs": [
    {
     "data": {
      "text/plain": [
       "'flex flex-wrap justify-start lg:mx-auto gap-8 text-left'"
      ]
     },
     "execution_count": 11,
     "metadata": {},
     "output_type": "execute_result"
    }
   ],
   "source": [
    "estados.get_property('className')"
   ]
  },
  {
   "cell_type": "code",
   "execution_count": 12,
   "metadata": {},
   "outputs": [
    {
     "data": {
      "text/plain": [
       "'estados'"
      ]
     },
     "execution_count": 12,
     "metadata": {},
     "output_type": "execute_result"
    }
   ],
   "source": [
    "estados.get_property('id')"
   ]
  },
  {
   "cell_type": "code",
   "execution_count": null,
   "metadata": {},
   "outputs": [],
   "source": [
    "children = estados.get_property('children') # Está linha é a mesma coisa que \"#estados > div\"\n",
    "\n",
    "for child in children:\n",
    "    # print(child.text)\n",
    "\n",
    "    cchild = child.get_property('children')\n",
    "    for cc in cchild:\n",
    "        if cc.tag_name == 'label':\n",
    "            print(cc.text)\n",
    "        if cc.tag_name == 'div':\n",
    "            print('\\t -', cc.text)"
   ]
  },
  {
   "cell_type": "code",
   "execution_count": 20,
   "metadata": {},
   "outputs": [
    {
     "data": {
      "text/plain": [
       "{'country': 'Brasil',\n",
       " 'language': 'Português',\n",
       " 'location': 'América do Sul',\n",
       " 'timezone': 'UTC-3'}"
      ]
     },
     "execution_count": 20,
     "metadata": {},
     "output_type": "execute_result"
    }
   ],
   "source": [
    "estados.get_property('dataset')"
   ]
  },
  {
   "cell_type": "code",
   "execution_count": 23,
   "metadata": {},
   "outputs": [
    {
     "data": {
      "text/html": [
       "<div id=\"estados\" data-country=\"Brasil\" data-timezone=\"UTC-3\" data-language=\"Português\" data-location=\"América do Sul\" class=\"flex flex-wrap justify-start lg:mx-auto gap-8 text-left\"><div data-index=\"0\" class=\"w-40\"><label class=\"block text-sm font-medium leading-6 text-gray-700 dark:text-white text-left \">Região Centro-Oeste</label><div aria-description=\"Região Centro-Oeste\" class=\"flex items-center my-2\"><button type=\"button\" role=\"checkbox\" aria-checked=\"false\" data-state=\"unchecked\" value=\"on\" id=\"Região Centro-Oeste_0\" class=\"CheckboxRoot\"></button><label class=\"block text-sm font-medium leading-6 text-gray-700 dark:text-white text-left Label\" for=\"Região Centro-Oeste_0\">Distrito Federal</label></div><div aria-description=\"Região Centro-Oeste\" class=\"flex items-center my-2\"><button type=\"button\" role=\"checkbox\" aria-checked=\"false\" data-state=\"unchecked\" value=\"on\" id=\"Região Centro-Oeste_1\" class=\"CheckboxRoot\"></button><label class=\"block text-sm font-medium leading-6 text-gray-700 dark:text-white text-left Label\" for=\"Região Centro-Oeste_1\">Goiás</label></div><div aria-description=\"Região Centro-Oeste\" class=\"flex items-center my-2\"><button type=\"button\" role=\"checkbox\" aria-checked=\"false\" data-state=\"unchecked\" value=\"on\" id=\"Região Centro-Oeste_2\" class=\"CheckboxRoot\"></button><label class=\"block text-sm font-medium leading-6 text-gray-700 dark:text-white text-left Label\" for=\"Região Centro-Oeste_2\">Mato Grosso</label></div><div aria-description=\"Região Centro-Oeste\" class=\"flex items-center my-2\"><button type=\"button\" role=\"checkbox\" aria-checked=\"false\" data-state=\"unchecked\" value=\"on\" id=\"Região Centro-Oeste_3\" class=\"CheckboxRoot\"></button><label class=\"block text-sm font-medium leading-6 text-gray-700 dark:text-white text-left Label\" for=\"Região Centro-Oeste_3\">Mato Grosso do Sul</label></div></div><div data-index=\"1\" class=\"w-40\"><label class=\"block text-sm font-medium leading-6 text-gray-700 dark:text-white text-left \">Região Nordeste</label><div aria-description=\"Região Nordeste\" class=\"flex items-center my-2\"><button type=\"button\" role=\"checkbox\" aria-checked=\"false\" data-state=\"unchecked\" value=\"on\" id=\"Região Nordeste_0\" class=\"CheckboxRoot\"></button><label class=\"block text-sm font-medium leading-6 text-gray-700 dark:text-white text-left Label\" for=\"Região Nordeste_0\">Alagoas</label></div><div aria-description=\"Região Nordeste\" class=\"flex items-center my-2\"><button type=\"button\" role=\"checkbox\" aria-checked=\"false\" data-state=\"unchecked\" value=\"on\" id=\"Região Nordeste_1\" class=\"CheckboxRoot\"></button><label class=\"block text-sm font-medium leading-6 text-gray-700 dark:text-white text-left Label\" for=\"Região Nordeste_1\">Bahia</label></div><div aria-description=\"Região Nordeste\" class=\"flex items-center my-2\"><button type=\"button\" role=\"checkbox\" aria-checked=\"false\" data-state=\"unchecked\" value=\"on\" id=\"Região Nordeste_2\" class=\"CheckboxRoot\"></button><label class=\"block text-sm font-medium leading-6 text-gray-700 dark:text-white text-left Label\" for=\"Região Nordeste_2\">Ceará</label></div><div aria-description=\"Região Nordeste\" class=\"flex items-center my-2\"><button type=\"button\" role=\"checkbox\" aria-checked=\"false\" data-state=\"unchecked\" value=\"on\" id=\"Região Nordeste_3\" class=\"CheckboxRoot\"></button><label class=\"block text-sm font-medium leading-6 text-gray-700 dark:text-white text-left Label\" for=\"Região Nordeste_3\">Maranhão</label></div><div aria-description=\"Região Nordeste\" class=\"flex items-center my-2\"><button type=\"button\" role=\"checkbox\" aria-checked=\"false\" data-state=\"unchecked\" value=\"on\" id=\"Região Nordeste_4\" class=\"CheckboxRoot\"></button><label class=\"block text-sm font-medium leading-6 text-gray-700 dark:text-white text-left Label\" for=\"Região Nordeste_4\">Paraíba</label></div><div aria-description=\"Região Nordeste\" class=\"flex items-center my-2\"><button type=\"button\" role=\"checkbox\" aria-checked=\"false\" data-state=\"unchecked\" value=\"on\" id=\"Região Nordeste_5\" class=\"CheckboxRoot\"></button><label class=\"block text-sm font-medium leading-6 text-gray-700 dark:text-white text-left Label\" for=\"Região Nordeste_5\">Pernambuco</label></div><div aria-description=\"Região Nordeste\" class=\"flex items-center my-2\"><button type=\"button\" role=\"checkbox\" aria-checked=\"false\" data-state=\"unchecked\" value=\"on\" id=\"Região Nordeste_6\" class=\"CheckboxRoot\"></button><label class=\"block text-sm font-medium leading-6 text-gray-700 dark:text-white text-left Label\" for=\"Região Nordeste_6\">Piauí</label></div><div aria-description=\"Região Nordeste\" class=\"flex items-center my-2\"><button type=\"button\" role=\"checkbox\" aria-checked=\"false\" data-state=\"unchecked\" value=\"on\" id=\"Região Nordeste_7\" class=\"CheckboxRoot\"></button><label class=\"block text-sm font-medium leading-6 text-gray-700 dark:text-white text-left Label\" for=\"Região Nordeste_7\">Rio Grande do Norte</label></div><div aria-description=\"Região Nordeste\" class=\"flex items-center my-2\"><button type=\"button\" role=\"checkbox\" aria-checked=\"false\" data-state=\"unchecked\" value=\"on\" id=\"Região Nordeste_8\" class=\"CheckboxRoot\"></button><label class=\"block text-sm font-medium leading-6 text-gray-700 dark:text-white text-left Label\" for=\"Região Nordeste_8\">Sergipe</label></div></div><div data-index=\"2\" class=\"w-40\"><label class=\"block text-sm font-medium leading-6 text-gray-700 dark:text-white text-left \">Região Norte</label><div aria-description=\"Região Norte\" class=\"flex items-center my-2\"><button type=\"button\" role=\"checkbox\" aria-checked=\"false\" data-state=\"unchecked\" value=\"on\" id=\"Região Norte_0\" class=\"CheckboxRoot\"></button><label class=\"block text-sm font-medium leading-6 text-gray-700 dark:text-white text-left Label\" for=\"Região Norte_0\">Acre</label></div><div aria-description=\"Região Norte\" class=\"flex items-center my-2\"><button type=\"button\" role=\"checkbox\" aria-checked=\"false\" data-state=\"unchecked\" value=\"on\" id=\"Região Norte_1\" class=\"CheckboxRoot\"></button><label class=\"block text-sm font-medium leading-6 text-gray-700 dark:text-white text-left Label\" for=\"Região Norte_1\">Amapá</label></div><div aria-description=\"Região Norte\" class=\"flex items-center my-2\"><button type=\"button\" role=\"checkbox\" aria-checked=\"false\" data-state=\"unchecked\" value=\"on\" id=\"Região Norte_2\" class=\"CheckboxRoot\"></button><label class=\"block text-sm font-medium leading-6 text-gray-700 dark:text-white text-left Label\" for=\"Região Norte_2\">Amazonas</label></div><div aria-description=\"Região Norte\" class=\"flex items-center my-2\"><button type=\"button\" role=\"checkbox\" aria-checked=\"false\" data-state=\"unchecked\" value=\"on\" id=\"Região Norte_3\" class=\"CheckboxRoot\"></button><label class=\"block text-sm font-medium leading-6 text-gray-700 dark:text-white text-left Label\" for=\"Região Norte_3\">Pará</label></div><div aria-description=\"Região Norte\" class=\"flex items-center my-2\"><button type=\"button\" role=\"checkbox\" aria-checked=\"false\" data-state=\"unchecked\" value=\"on\" id=\"Região Norte_4\" class=\"CheckboxRoot\"></button><label class=\"block text-sm font-medium leading-6 text-gray-700 dark:text-white text-left Label\" for=\"Região Norte_4\">Rondônia</label></div><div aria-description=\"Região Norte\" class=\"flex items-center my-2\"><button type=\"button\" role=\"checkbox\" aria-checked=\"false\" data-state=\"unchecked\" value=\"on\" id=\"Região Norte_5\" class=\"CheckboxRoot\"></button><label class=\"block text-sm font-medium leading-6 text-gray-700 dark:text-white text-left Label\" for=\"Região Norte_5\">Roraima</label></div><div aria-description=\"Região Norte\" class=\"flex items-center my-2\"><button type=\"button\" role=\"checkbox\" aria-checked=\"false\" data-state=\"unchecked\" value=\"on\" id=\"Região Norte_6\" class=\"CheckboxRoot\"></button><label class=\"block text-sm font-medium leading-6 text-gray-700 dark:text-white text-left Label\" for=\"Região Norte_6\">Tocantis</label></div></div><div data-index=\"3\" class=\"w-40\"><label class=\"block text-sm font-medium leading-6 text-gray-700 dark:text-white text-left \">Região Sudeste</label><div aria-description=\"Região Sudeste\" class=\"flex items-center my-2\"><button type=\"button\" role=\"checkbox\" aria-checked=\"false\" data-state=\"unchecked\" value=\"on\" id=\"Região Sudeste_0\" class=\"CheckboxRoot\"></button><label class=\"block text-sm font-medium leading-6 text-gray-700 dark:text-white text-left Label\" for=\"Região Sudeste_0\">Espírito Santo</label></div><div aria-description=\"Região Sudeste\" class=\"flex items-center my-2\"><button type=\"button\" role=\"checkbox\" aria-checked=\"false\" data-state=\"unchecked\" value=\"on\" id=\"Região Sudeste_1\" class=\"CheckboxRoot\"></button><label class=\"block text-sm font-medium leading-6 text-gray-700 dark:text-white text-left Label\" for=\"Região Sudeste_1\">Minas Gerais</label></div><div aria-description=\"Região Sudeste\" class=\"flex items-center my-2\"><button type=\"button\" role=\"checkbox\" aria-checked=\"false\" data-state=\"unchecked\" value=\"on\" id=\"Região Sudeste_2\" class=\"CheckboxRoot\"></button><label class=\"block text-sm font-medium leading-6 text-gray-700 dark:text-white text-left Label\" for=\"Região Sudeste_2\">Rio de Janeiro</label></div><div aria-description=\"Região Sudeste\" class=\"flex items-center my-2\"><button type=\"button\" role=\"checkbox\" aria-checked=\"false\" data-state=\"unchecked\" value=\"on\" id=\"Região Sudeste_3\" class=\"CheckboxRoot\"></button><label class=\"block text-sm font-medium leading-6 text-gray-700 dark:text-white text-left Label\" for=\"Região Sudeste_3\">São Paulo</label></div></div><div data-index=\"4\" class=\"w-40\"><label class=\"block text-sm font-medium leading-6 text-gray-700 dark:text-white text-left \">Região Sul</label><div aria-description=\"Região Sul\" class=\"flex items-center my-2\"><button type=\"button\" role=\"checkbox\" aria-checked=\"false\" data-state=\"unchecked\" value=\"on\" id=\"Região Sul_0\" class=\"CheckboxRoot\"></button><label class=\"block text-sm font-medium leading-6 text-gray-700 dark:text-white text-left Label\" for=\"Região Sul_0\">Paraná</label></div><div aria-description=\"Região Sul\" class=\"flex items-center my-2\"><button type=\"button\" role=\"checkbox\" aria-checked=\"false\" data-state=\"unchecked\" value=\"on\" id=\"Região Sul_1\" class=\"CheckboxRoot\"></button><label class=\"block text-sm font-medium leading-6 text-gray-700 dark:text-white text-left Label\" for=\"Região Sul_1\">Rio Grande do Sul</label></div><div aria-description=\"Região Sul\" class=\"flex items-center my-2\"><button type=\"button\" role=\"checkbox\" aria-checked=\"false\" data-state=\"unchecked\" value=\"on\" id=\"Região Sul_2\" class=\"CheckboxRoot\"></button><label class=\"block text-sm font-medium leading-6 text-gray-700 dark:text-white text-left Label\" for=\"Região Sul_2\">Santa Catarina</label></div></div></div>"
      ],
      "text/plain": [
       "<IPython.core.display.HTML object>"
      ]
     },
     "execution_count": 23,
     "metadata": {},
     "output_type": "execute_result"
    }
   ],
   "source": [
    "from IPython.display import HTML\n",
    "\n",
    "HTML(estados.get_property('outerHTML'))"
   ]
  },
  {
   "cell_type": "markdown",
   "metadata": {},
   "source": [
    "# Size"
   ]
  },
  {
   "cell_type": "code",
   "execution_count": 25,
   "metadata": {},
   "outputs": [
    {
     "data": {
      "text/plain": [
       "{'height': 352, 'width': 1264}"
      ]
     },
     "execution_count": 25,
     "metadata": {},
     "output_type": "execute_result"
    }
   ],
   "source": [
    "estados.size"
   ]
  },
  {
   "cell_type": "markdown",
   "metadata": {},
   "source": [
    "# Location"
   ]
  },
  {
   "cell_type": "code",
   "execution_count": 26,
   "metadata": {},
   "outputs": [
    {
     "data": {
      "text/plain": [
       "{'x': 328, 'y': 320}"
      ]
     },
     "execution_count": 26,
     "metadata": {},
     "output_type": "execute_result"
    }
   ],
   "source": [
    "estados.location"
   ]
  },
  {
   "cell_type": "markdown",
   "metadata": {},
   "source": [
    "# Rect"
   ]
  },
  {
   "cell_type": "code",
   "execution_count": 27,
   "metadata": {},
   "outputs": [
    {
     "data": {
      "text/plain": [
       "{'height': 352, 'width': 1264, 'x': 328, 'y': 320.5}"
      ]
     },
     "execution_count": 27,
     "metadata": {},
     "output_type": "execute_result"
    }
   ],
   "source": [
    "estados.rect"
   ]
  },
  {
   "cell_type": "markdown",
   "metadata": {},
   "source": [
    "# value_of_css_property"
   ]
  },
  {
   "cell_type": "code",
   "execution_count": 28,
   "metadata": {},
   "outputs": [
    {
     "data": {
      "text/plain": [
       "'solid'"
      ]
     },
     "execution_count": 28,
     "metadata": {},
     "output_type": "execute_result"
    }
   ],
   "source": [
    "estados.value_of_css_property('border-bottom-style')"
   ]
  },
  {
   "cell_type": "markdown",
   "metadata": {},
   "source": [
    "# tag_name"
   ]
  },
  {
   "cell_type": "code",
   "execution_count": 32,
   "metadata": {},
   "outputs": [
    {
     "name": "stdout",
     "output_type": "stream",
     "text": [
      "div\n",
      " - div\n",
      " - div\n",
      " - div\n",
      " - div\n",
      " - div\n"
     ]
    }
   ],
   "source": [
    "print(estados.tag_name)\n",
    "\n",
    "for estado in estados.get_property('children'):\n",
    "    print(' -', estado.tag_name)"
   ]
  },
  {
   "cell_type": "code",
   "execution_count": null,
   "metadata": {},
   "outputs": [],
   "source": []
  },
  {
   "cell_type": "code",
   "execution_count": null,
   "metadata": {},
   "outputs": [],
   "source": []
  }
 ],
 "metadata": {
  "kernelspec": {
   "display_name": "venv",
   "language": "python",
   "name": "python3"
  },
  "language_info": {
   "codemirror_mode": {
    "name": "ipython",
    "version": 3
   },
   "file_extension": ".py",
   "mimetype": "text/x-python",
   "name": "python",
   "nbconvert_exporter": "python",
   "pygments_lexer": "ipython3",
   "version": "3.13.1"
  }
 },
 "nbformat": 4,
 "nbformat_minor": 2
}
