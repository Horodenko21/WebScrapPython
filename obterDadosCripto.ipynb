{
 "cells": [
  {
   "cell_type": "markdown",
   "metadata": {},
   "source": [
    "# Obter dados de CRIPTOMOEDAS\n",
    "\n",
    "- Mudar moeda base para REAL\n",
    "- Selecionar 300 itens por pagina\n",
    "- Capturar dados por pagina\n",
    "- Iterar sobre todas as demais paginas\n",
    "- Salvar em arquivo"
   ]
  },
  {
   "cell_type": "code",
   "execution_count": null,
   "metadata": {},
   "outputs": [],
   "source": [
    "from selenium import webdriver # Importa driver para navegadores pelo selenium\n",
    "from selenium.webdriver.common.by import By # Importando classe By que server para selecionar os elementos\n",
    "from selenium.webdriver.common.keys import Keys # Importo todas as teclas do teclado pelo pacote do Selenium\n",
    "from selenium.webdriver.support.ui import Select # Import necessario para selecao de elementos em dropdown/selector\n",
    "from selenium.webdriver.support.wait import WebDriverWait # Import da classe WAIT, serve para dizer o quanto se deve esperar pro navegador\n",
    "from selenium.webdriver.support import expected_conditions as EC # Import de expected_conditions, e da nome reduzido (alias) EC\n",
    "from dataclasses import dataclass # Import dataclass, como se fosse um objeto\n",
    "import urllib.request # Import request para fazer uma requisicao para um determinado link e pegar todas as informacoes de determinado link\n",
    "import os # Permite trabalhar com o Sistema Operacional\n",
    "from selenium.webdriver.common.action_chains import ActionChains # Import da classe ActionChains\n",
    "from pandas.io.clipboard import clipboard_set, clipboard_get # Import para mexer com menu de contexto\n",
    "from io import StringIO # Import StringIO para PANDAS\n",
    "import pandas as pd # Import do PANDAS\n",
    "from selenium.webdriver.common import utils # Importa biblioteca com UTILIATARIAS para simplificar o codigo\n",
    "\n",
    "driver = webdriver.Chrome() # Declara que driver é do chrome\n"
   ]
  },
  {
   "cell_type": "markdown",
   "metadata": {},
   "source": [
    "# Iterando todas as paginas enquanto capturo todos os dados"
   ]
  },
  {
   "cell_type": "code",
   "execution_count": 37,
   "metadata": {},
   "outputs": [
    {
     "name": "stdout",
     "output_type": "stream",
     "text": [
      "Encerrando execucao na página https://www.coingecko.com/pt?page=57&items=300\n"
     ]
    }
   ],
   "source": [
    "with webdriver.Chrome() as driver: # Declaro que driver só existe enquanto faco as coisas nele\n",
    "    driver.get('https://coingecko.com/pt') # Declaro pagina que estou acessando)\n",
    "    driver.implicitly_wait(time_to_wait=30)\n",
    "    driver.maximize_window()\n",
    "\n",
    "    driver.execute_script('Modal.show(\"currency_selector\")') # Abro modal de selecão de moeda\n",
    "    driver.find_element(By.CSS_SELECTOR, 'div[data-iso-code=\"brl\"]').click() # Seleciono moeda REAL\n",
    "\n",
    "    driver.find_element(By.CSS_SELECTOR, 'div.gecko-pagination-selector button').click() # Abro dropdown para selecao de numero de itens por pagina\n",
    "    driver.find_element(By.CSS_SELECTOR, 'span[data-url=\"/pt?items=300\"]').click() # Seleciono que quero 300 itens por pagina\n",
    "\n",
    "    dadosColetados = []\n",
    "\n",
    "    while True:\n",
    "        #Pegando dados da table\n",
    "        df = pd.read_html(\n",
    "            io = StringIO(driver.page_source),\n",
    "            thousands = '.',\n",
    "            decimal = ',',\n",
    "            skiprows = 1\n",
    "        )[0]\n",
    "\n",
    "        #Renomeando colunas\n",
    "        df.columns = ['Favorite', 'Id', 'Coin', 'Buy', 'Price', '1h', '24h', '7d', '30d', 'Volume in 24h', 'MarketCapitalization', 'FDV', 'FDVCapitalization', 'VariationGraph']\n",
    "        \n",
    "        #Adicionando a lista\n",
    "        dadosColetados.append(df)\n",
    "\n",
    "        try:\n",
    "            #Indo para prox pag\n",
    "            driver.find_element(By.CSS_SELECTOR, 'a[aria-label=\"next\"]').click()\n",
    "        except:\n",
    "            print(f'Encerrando execucao na página {driver.current_url}')\n",
    "            break"
   ]
  },
  {
   "cell_type": "markdown",
   "metadata": {},
   "source": [
    "# Concatenando todas as paginas em uma crinado uma unica pagina com todas as Moedas"
   ]
  },
  {
   "cell_type": "code",
   "execution_count": 38,
   "metadata": {},
   "outputs": [],
   "source": [
    "dfFinal = pd.concat(dadosColetados)"
   ]
  },
  {
   "cell_type": "markdown",
   "metadata": {},
   "source": [
    "# Exportando dados"
   ]
  },
  {
   "cell_type": "code",
   "execution_count": 39,
   "metadata": {},
   "outputs": [],
   "source": [
    "dfFinal.to_csv('criptoMoedas.csv', index=False) # Salvando em CSV"
   ]
  },
  {
   "cell_type": "code",
   "execution_count": null,
   "metadata": {},
   "outputs": [],
   "source": [
    "# !pip install openpyxl # Biblioteca para engine para salvar em XLSX\n",
    "dfFinal.to_excel('criptoMoedas.xlsx', index=False, engine='openpyxl') # Salvando em Excel"
   ]
  },
  {
   "cell_type": "code",
   "execution_count": 41,
   "metadata": {},
   "outputs": [],
   "source": [
    "dfFinal.to_json('criptoMoedas.json', index=False, orient='records') # Salvando em Json"
   ]
  },
  {
   "cell_type": "code",
   "execution_count": null,
   "metadata": {},
   "outputs": [],
   "source": [
    "import sqlite3 # Import banco de dados"
   ]
  },
  {
   "cell_type": "code",
   "execution_count": 43,
   "metadata": {},
   "outputs": [],
   "source": [
    "with sqlite3.connect('database.db') as con: # Se existir um banco de dados com este nome ele se conecta / Se nao existir ele cria automaticamente\n",
    "    dfFinal.to_sql(name='criptoMoedas', con=con, index=False, if_exists='replace') # Salvando em banco de dados"
   ]
  },
  {
   "cell_type": "code",
   "execution_count": null,
   "metadata": {},
   "outputs": [],
   "source": []
  }
 ],
 "metadata": {
  "kernelspec": {
   "display_name": "venv",
   "language": "python",
   "name": "python3"
  },
  "language_info": {
   "codemirror_mode": {
    "name": "ipython",
    "version": 3
   },
   "file_extension": ".py",
   "mimetype": "text/x-python",
   "name": "python",
   "nbconvert_exporter": "python",
   "pygments_lexer": "ipython3",
   "version": "3.13.1"
  }
 },
 "nbformat": 4,
 "nbformat_minor": 2
}
