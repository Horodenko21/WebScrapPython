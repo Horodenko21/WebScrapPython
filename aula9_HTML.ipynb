{
 "cells": [
  {
   "cell_type": "code",
   "execution_count": 1,
   "metadata": {},
   "outputs": [],
   "source": [
    "from selenium import webdriver # Importa driver para navegadores pelo selenium\n",
    "from selenium.webdriver.common.by import By # Importando classe By que server para selecionar os elementos\n",
    "driver = webdriver.Chrome() # Declara que driver é do chrome"
   ]
  },
  {
   "cell_type": "code",
   "execution_count": 2,
   "metadata": {},
   "outputs": [],
   "source": [
    "driver.get('http://localhost:8000/#/exemplo/1') # Declaro pagina que estou acessando"
   ]
  },
  {
   "cell_type": "markdown",
   "metadata": {},
   "source": [
    "Opcoes disponiveis para selecionar elementos diretamente com o Selenium :\n",
    "\n",
    "- ID = \"id\"\n",
    "- NAME = \"name\"\n",
    "- XPATH = \"xpath\"\n",
    "- LINK_TEXT = \"link text\"\n",
    "- PARTIAL_LINK_TEXT = \"partial link text\"\n",
    "- TAG_NAME = \"tag name\"\n",
    "- CLASS_NAME = \"class name\"\n",
    "- CSS_SELECTOR = \"css selector\""
   ]
  },
  {
   "cell_type": "markdown",
   "metadata": {},
   "source": []
  },
  {
   "cell_type": "markdown",
   "metadata": {},
   "source": [
    "# Attribute = Todo atributo em HTML\n",
    "\n",
    "# Property = Todo objeto dentro do DOM (que renderiza a pagina HTML)"
   ]
  },
  {
   "cell_type": "code",
   "execution_count": 5,
   "metadata": {},
   "outputs": [
    {
     "data": {
      "text/plain": [
       "('zodiac', 'zodiac')"
      ]
     },
     "execution_count": 5,
     "metadata": {},
     "output_type": "execute_result"
    }
   ],
   "source": [
    "attr = driver.find_element(By.ID, 'zodiac').get_attribute('id')\n",
    "prop = driver.find_element(By.ID, 'zodiac').get_property('id')\n",
    "\n",
    "attr, prop"
   ]
  },
  {
   "cell_type": "code",
   "execution_count": 9,
   "metadata": {},
   "outputs": [
    {
     "data": {
      "text/plain": [
       "('block w-full rounded-md border-0 py-1.5 px-4 h-10 text-gray-700 ring-1 ring-inset ring-gray-300 bg-white placeholder:text-gray-400 focus:ring-2 focus:ring-inset focus:ring-cyan-600 sm:text-sm sm:leading-6 styled-input optional-info',\n",
       " None,\n",
       " 'block w-full rounded-md border-0 py-1.5 px-4 h-10 text-gray-700 ring-1 ring-inset ring-gray-300 bg-white placeholder:text-gray-400 focus:ring-2 focus:ring-inset focus:ring-cyan-600 sm:text-sm sm:leading-6 styled-input optional-info')"
      ]
     },
     "execution_count": 9,
     "metadata": {},
     "output_type": "execute_result"
    }
   ],
   "source": [
    "attr = driver.find_element(By.ID, 'zodiac').get_attribute('class')\n",
    "wrongProp = driver.find_element(By.ID, 'zodiac').get_property('class')\n",
    "prop = driver.find_element(By.ID, 'zodiac').get_property('className')\n",
    "\n",
    "attr, wrongProp, prop"
   ]
  },
  {
   "cell_type": "code",
   "execution_count": 12,
   "metadata": {},
   "outputs": [
    {
     "data": {
      "text/plain": [
       "('true', {'optional': 'true'}, 'true')"
      ]
     },
     "execution_count": 12,
     "metadata": {},
     "output_type": "execute_result"
    }
   ],
   "source": [
    "attr = driver.find_element(By.ID, 'zodiac').get_attribute('data-optional')\n",
    "prop = driver.find_element(By.ID, 'zodiac').get_property('dataset')\n",
    "propOpt = driver.find_element(By.ID, 'zodiac').get_property('dataset')['optional']\n",
    "\n",
    "attr, prop, propOpt"
   ]
  },
  {
   "cell_type": "code",
   "execution_count": null,
   "metadata": {},
   "outputs": [],
   "source": []
  }
 ],
 "metadata": {
  "kernelspec": {
   "display_name": "venv",
   "language": "python",
   "name": "python3"
  },
  "language_info": {
   "codemirror_mode": {
    "name": "ipython",
    "version": 3
   },
   "file_extension": ".py",
   "mimetype": "text/x-python",
   "name": "python",
   "nbconvert_exporter": "python",
   "pygments_lexer": "ipython3",
   "version": "3.13.1"
  }
 },
 "nbformat": 4,
 "nbformat_minor": 2
}
