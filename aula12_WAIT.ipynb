{
 "cells": [
  {
   "cell_type": "code",
   "execution_count": 18,
   "metadata": {},
   "outputs": [],
   "source": [
    "from selenium import webdriver # Importa driver para navegadores pelo selenium\n",
    "from selenium.webdriver.common.by import By # Importando classe By que server para selecionar os elementos\n",
    "from selenium.webdriver.common.keys import Keys # Importo todas as teclas do teclado pelo pacote do Selenium\n",
    "from selenium.webdriver.support.ui import Select # Import necessario para selecao de elementos em dropdown/selector\n",
    "\n",
    "driver = webdriver.Chrome() # Declara que driver é do chrome"
   ]
  },
  {
   "cell_type": "code",
   "execution_count": 19,
   "metadata": {},
   "outputs": [],
   "source": [
    "driver.get('http://localhost:8000/#/exemplo/4') # Declaro pagina que estou acessando"
   ]
  },
  {
   "cell_type": "code",
   "execution_count": 20,
   "metadata": {},
   "outputs": [],
   "source": [
    "from selenium.webdriver.support.wait import WebDriverWait # Import da classe WAIT, serve para dizer o quanto se deve esperar pro navegador\n",
    "from selenium.webdriver.support import expected_conditions as EC # Import de expected_conditions, e da nome reduzido (alias) EC"
   ]
  },
  {
   "cell_type": "code",
   "execution_count": 21,
   "metadata": {},
   "outputs": [
    {
     "data": {
      "text/plain": [
       "<selenium.webdriver.remote.webelement.WebElement (session=\"4c7e6f7b387b8d75a9c987f138f031ee\", element=\"f.2F4EECF5DF33DAEBC9F463FA490BEC0D.d.C1DD40DF7AAD9FF4713FA214947505FF.e.20\")>"
      ]
     },
     "execution_count": 21,
     "metadata": {},
     "output_type": "execute_result"
    }
   ],
   "source": [
    "wait = WebDriverWait(driver=driver, timeout=5)\n",
    "\n",
    "driver.refresh()\n",
    "wait.until(EC.presence_of_element_located(locator=(By.ID, 'vantagens')))"
   ]
  },
  {
   "cell_type": "markdown",
   "metadata": {},
   "source": [
    "### timeout é o tempo limite que o navegador deve aguardar até jogar uma excecao"
   ]
  },
  {
   "cell_type": "code",
   "execution_count": 22,
   "metadata": {},
   "outputs": [
    {
     "data": {
      "text/plain": [
       "<selenium.webdriver.remote.webelement.WebElement (session=\"4c7e6f7b387b8d75a9c987f138f031ee\", element=\"f.2F4EECF5DF33DAEBC9F463FA490BEC0D.d.8E22258D99F9E66362C38EA7D363C8D8.e.30\")>"
      ]
     },
     "execution_count": 22,
     "metadata": {},
     "output_type": "execute_result"
    }
   ],
   "source": [
    "wait = WebDriverWait(driver=driver, timeout=60)\n",
    "\n",
    "driver.refresh()\n",
    "wait.until(EC.presence_of_element_located(locator=(By.ID, 'vantagens')))"
   ]
  },
  {
   "cell_type": "markdown",
   "metadata": {},
   "source": [
    "### poll_frequency é o tempo entre cada verificacao"
   ]
  },
  {
   "cell_type": "code",
   "execution_count": 23,
   "metadata": {},
   "outputs": [
    {
     "data": {
      "text/plain": [
       "<selenium.webdriver.remote.webelement.WebElement (session=\"4c7e6f7b387b8d75a9c987f138f031ee\", element=\"f.2F4EECF5DF33DAEBC9F463FA490BEC0D.d.39BECE1A05D0DAD35B5C84470F20F44A.e.40\")>"
      ]
     },
     "execution_count": 23,
     "metadata": {},
     "output_type": "execute_result"
    }
   ],
   "source": [
    "wait = WebDriverWait(driver=driver, timeout=60, poll_frequency=10)\n",
    "\n",
    "driver.refresh()\n",
    "wait.until(EC.presence_of_element_located(locator=(By.ID, 'vantagens')))"
   ]
  },
  {
   "cell_type": "markdown",
   "metadata": {},
   "source": [
    "### Tratativa de Exceptions"
   ]
  },
  {
   "cell_type": "code",
   "execution_count": 24,
   "metadata": {},
   "outputs": [
    {
     "name": "stdout",
     "output_type": "stream",
     "text": [
      "Não foi encontrado component de ID = \"vantagens\"\n"
     ]
    }
   ],
   "source": [
    "wait = WebDriverWait(driver=driver, timeout=2, poll_frequency=0.5)\n",
    "\n",
    "driver.refresh()\n",
    "try:\n",
    "    wait.until(\n",
    "        method = EC.presence_of_element_located(locator=(By.ID, 'vantagens')),\n",
    "        message = 'Não foi encontrado component de ID = \"vantagens\"'\n",
    "    )\n",
    "except Exception as e:\n",
    "    print(e.msg)\n"
   ]
  },
  {
   "cell_type": "markdown",
   "metadata": {},
   "source": [
    "### Exemplos de uso\n",
    "\n",
    "- Lojas (Aguardar produtos serem exibidos...)\n",
    "- Internet (Problema de conexao)\n",
    "- Latencia (Alta latencia)"
   ]
  },
  {
   "cell_type": "code",
   "execution_count": 25,
   "metadata": {},
   "outputs": [],
   "source": [
    "driver.get('http://localhost:8000/#/exemplo/4')"
   ]
  },
  {
   "cell_type": "code",
   "execution_count": 26,
   "metadata": {},
   "outputs": [
    {
     "data": {
      "text/plain": [
       "<selenium.webdriver.remote.webelement.WebElement (session=\"4c7e6f7b387b8d75a9c987f138f031ee\", element=\"f.2F4EECF5DF33DAEBC9F463FA490BEC0D.d.E0BD3CE42460B8E571C363DA32152E2C.e.61\")>"
      ]
     },
     "execution_count": 26,
     "metadata": {},
     "output_type": "execute_result"
    }
   ],
   "source": [
    "driver.refresh()\n",
    "driver.implicitly_wait(time_to_wait=10)\n",
    "driver.find_element(By.ID, 'vantagens')\n"
   ]
  },
  {
   "cell_type": "code",
   "execution_count": null,
   "metadata": {},
   "outputs": [],
   "source": []
  },
  {
   "cell_type": "code",
   "execution_count": null,
   "metadata": {},
   "outputs": [],
   "source": []
  }
 ],
 "metadata": {
  "kernelspec": {
   "display_name": "venv",
   "language": "python",
   "name": "python3"
  },
  "language_info": {
   "codemirror_mode": {
    "name": "ipython",
    "version": 3
   },
   "file_extension": ".py",
   "mimetype": "text/x-python",
   "name": "python",
   "nbconvert_exporter": "python",
   "pygments_lexer": "ipython3",
   "version": "3.13.1"
  }
 },
 "nbformat": 4,
 "nbformat_minor": 2
}
