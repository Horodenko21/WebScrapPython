{
 "cells": [
  {
   "cell_type": "code",
   "execution_count": null,
   "metadata": {},
   "outputs": [],
   "source": [
    "from selenium import webdriver # Importa driver para navegadores pelo selenium\n",
    "driver = webdriver.Chrome() # Declara que driver é do chrome"
   ]
  },
  {
   "cell_type": "code",
   "execution_count": null,
   "metadata": {},
   "outputs": [],
   "source": [
    "driver.get('http://localhost:8000/#/exemplo/1') # Declaro pagina que estou acessando"
   ]
  },
  {
   "cell_type": "markdown",
   "metadata": {},
   "source": [
    "Opcoes disponiveis para selecionar elementos diretamente com o Selenium :\n",
    "\n",
    "- ID = \"id\"\n",
    "- NAME = \"name\"\n",
    "- XPATH = \"xpath\"\n",
    "- LINK_TEXT = \"link text\"\n",
    "- PARTIAL_LINK_TEXT = \"partial link text\"\n",
    "- TAG_NAME = \"tag name\"\n",
    "- CLASS_NAME = \"class name\"\n",
    "- CSS_SELECTOR = \"css selector\""
   ]
  },
  {
   "cell_type": "markdown",
   "metadata": {},
   "source": []
  },
  {
   "cell_type": "code",
   "execution_count": 12,
   "metadata": {},
   "outputs": [],
   "source": [
    "from selenium.webdriver.common.by import By # Importando classe By que server para selecionar os elementos"
   ]
  },
  {
   "cell_type": "code",
   "execution_count": 18,
   "metadata": {},
   "outputs": [
    {
     "data": {
      "text/plain": [
       "<selenium.webdriver.remote.webelement.WebElement (session=\"a7854ac5171f50f9a75ec2905d285342\", element=\"f.4115BCD0252291CFA274E90C08F165F2.d.EA4ED517E99A2C7069EB9A937C50CCD4.e.14\")>"
      ]
     },
     "execution_count": 18,
     "metadata": {},
     "output_type": "execute_result"
    }
   ],
   "source": [
    "driver.find_element(By.ID, 'user') # Declarando que quero pegar um elemento no navegador find_element(By.PARAMETRO, 'NOME_PARAMETRO')"
   ]
  },
  {
   "cell_type": "markdown",
   "metadata": {},
   "source": []
  },
  {
   "cell_type": "code",
   "execution_count": 19,
   "metadata": {},
   "outputs": [
    {
     "data": {
      "text/plain": [
       "[<selenium.webdriver.remote.webelement.WebElement (session=\"a7854ac5171f50f9a75ec2905d285342\", element=\"f.4115BCD0252291CFA274E90C08F165F2.d.EA4ED517E99A2C7069EB9A937C50CCD4.e.14\")>]"
      ]
     },
     "execution_count": 19,
     "metadata": {},
     "output_type": "execute_result"
    }
   ],
   "source": [
    "driver.find_elements(By.ID, 'user') # Declarando que quero pegar uma lista de elementos no navegador find_elements(By.PARAMETRO, 'NOME_PARAMETRO')"
   ]
  },
  {
   "cell_type": "code",
   "execution_count": null,
   "metadata": {},
   "outputs": [
    {
     "data": {
      "text/plain": [
       "'Júlio César Moreira'"
      ]
     },
     "execution_count": 21,
     "metadata": {},
     "output_type": "execute_result"
    }
   ],
   "source": [
    "driver.find_element(By.ID, 'user').get_property('value') # Declaro no .get_property('ATRIBUTO') o que quero do elemento"
   ]
  },
  {
   "cell_type": "code",
   "execution_count": null,
   "metadata": {},
   "outputs": [
    {
     "name": "stdout",
     "output_type": "stream",
     "text": [
      "\n",
      "      nome='Júlio César Moreira'\n",
      "      profissao='Futuro Otimização Arquiteto'\n",
      "      signo='Aquário'\n",
      "      genero='Feminino'    \n",
      "\n"
     ]
    }
   ],
   "source": [
    "nome = driver.find_element(By.ID, 'user').get_property('value') # Declaro que a variavel nome recebe o value do user\n",
    "profissao = driver.find_element(By.ID, 'role').get_property('value') # Declaro que a variavel profissao recebe o value do role\n",
    "signo = driver.find_element(By.ID, 'zodiac').get_property('value') # Declaro que a variavel signo recebe o value do zodiac\n",
    "genero = driver.find_element(By.ID, 'gender').get_property('value') # Declaro que a variavel genero recebe o value do gender\n",
    "\n",
    "print(f'''\n",
    "      {nome=},\n",
    "      {profissao=},\n",
    "      {signo=},\n",
    "      {genero=}\n",
    "''')"
   ]
  },
  {
   "cell_type": "code",
   "execution_count": null,
   "metadata": {},
   "outputs": [],
   "source": []
  }
 ],
 "metadata": {
  "kernelspec": {
   "display_name": "venv",
   "language": "python",
   "name": "python3"
  },
  "language_info": {
   "codemirror_mode": {
    "name": "ipython",
    "version": 3
   },
   "file_extension": ".py",
   "mimetype": "text/x-python",
   "name": "python",
   "nbconvert_exporter": "python",
   "pygments_lexer": "ipython3",
   "version": "3.13.1"
  }
 },
 "nbformat": 4,
 "nbformat_minor": 2
}
