{
 "cells": [
  {
   "cell_type": "code",
   "execution_count": 1,
   "metadata": {},
   "outputs": [],
   "source": [
    "from selenium import webdriver # Importa driver para navegadores pelo selenium\n",
    "from selenium.webdriver.common.by import By # Importando classe By que server para selecionar os elementos\n",
    "from selenium.webdriver.common.keys import Keys # Importo todas as teclas do teclado pelo pacote do Selenium\n",
    "\n",
    "driver = webdriver.Chrome() # Declara que driver é do chrome"
   ]
  },
  {
   "cell_type": "code",
   "execution_count": 2,
   "metadata": {},
   "outputs": [],
   "source": [
    "driver.get('http://localhost:8000/#/exemplo/3') # Declaro pagina que estou acessando"
   ]
  },
  {
   "cell_type": "code",
   "execution_count": 3,
   "metadata": {},
   "outputs": [],
   "source": [
    "from selenium.webdriver.support.ui import Select # Import necessario para selecao de elementos em dropdown/selector"
   ]
  },
  {
   "cell_type": "code",
   "execution_count": 6,
   "metadata": {},
   "outputs": [],
   "source": [
    "select = Select(driver.find_element(By.CSS_SELECTOR, '#simple-select > div:nth-child(5) > select'))"
   ]
  },
  {
   "cell_type": "code",
   "execution_count": 7,
   "metadata": {},
   "outputs": [
    {
     "name": "stdout",
     "output_type": "stream",
     "text": [
      "0 Paraná\n",
      "1 Rio Grande do Sul\n",
      "2 Santa Catarina\n"
     ]
    }
   ],
   "source": [
    "for opt in select.options:\n",
    "    print(opt.get_attribute('value'), opt.text)"
   ]
  },
  {
   "cell_type": "code",
   "execution_count": 23,
   "metadata": {},
   "outputs": [],
   "source": [
    "select.select_by_index(2)"
   ]
  },
  {
   "cell_type": "code",
   "execution_count": 21,
   "metadata": {},
   "outputs": [],
   "source": [
    "select.select_by_visible_text('Paraná')"
   ]
  },
  {
   "cell_type": "code",
   "execution_count": 18,
   "metadata": {},
   "outputs": [],
   "source": [
    "select.select_by_value('1')"
   ]
  },
  {
   "cell_type": "code",
   "execution_count": 24,
   "metadata": {},
   "outputs": [
    {
     "data": {
      "text/plain": [
       "'Santa Catarina'"
      ]
     },
     "execution_count": 24,
     "metadata": {},
     "output_type": "execute_result"
    }
   ],
   "source": [
    "select.first_selected_option.text"
   ]
  },
  {
   "cell_type": "markdown",
   "metadata": {},
   "source": [
    "# Multiplo"
   ]
  },
  {
   "cell_type": "code",
   "execution_count": 27,
   "metadata": {},
   "outputs": [],
   "source": [
    "multi = Select(driver.find_element(By.CSS_SELECTOR, r'#multi-select > div:nth-child(1) > select'))"
   ]
  },
  {
   "cell_type": "code",
   "execution_count": 28,
   "metadata": {},
   "outputs": [
    {
     "name": "stdout",
     "output_type": "stream",
     "text": [
      "0 Distrito Federal\n",
      "1 Goiás\n",
      "2 Mato Grosso\n",
      "3 Mato Grosso do Sul\n"
     ]
    }
   ],
   "source": [
    "for opt in multi.options:\n",
    "    print(opt.get_attribute('value'), opt.text)"
   ]
  },
  {
   "cell_type": "code",
   "execution_count": 41,
   "metadata": {},
   "outputs": [],
   "source": [
    "multi.select_by_index(1)\n",
    "multi.select_by_visible_text('Mato Grosso')\n"
   ]
  },
  {
   "cell_type": "code",
   "execution_count": 38,
   "metadata": {},
   "outputs": [
    {
     "name": "stdout",
     "output_type": "stream",
     "text": [
      "1 Goiás\n",
      "2 Mato Grosso\n"
     ]
    }
   ],
   "source": [
    "for aso in multi.all_selected_options:\n",
    "    print(aso.get_attribute('value'), aso.text)"
   ]
  },
  {
   "cell_type": "code",
   "execution_count": 42,
   "metadata": {},
   "outputs": [],
   "source": [
    "multi.deselect_by_index(1)\n",
    "multi.deselect_by_visible_text('Mato Grosso')\n",
    "\n",
    "multi.deselect_all()"
   ]
  },
  {
   "cell_type": "code",
   "execution_count": 44,
   "metadata": {},
   "outputs": [
    {
     "data": {
      "text/plain": [
       "[<selenium.webdriver.remote.webelement.WebElement (session=\"7ede09e35cd6f0f525df04aac6a90691\", element=\"f.82124F0202EAA752797C59212BA607E3.d.8216248D6A97149D7741398BC406452E.e.198\")>,\n",
       " <selenium.webdriver.remote.webelement.WebElement (session=\"7ede09e35cd6f0f525df04aac6a90691\", element=\"f.82124F0202EAA752797C59212BA607E3.d.8216248D6A97149D7741398BC406452E.e.199\")>,\n",
       " <selenium.webdriver.remote.webelement.WebElement (session=\"7ede09e35cd6f0f525df04aac6a90691\", element=\"f.82124F0202EAA752797C59212BA607E3.d.8216248D6A97149D7741398BC406452E.e.200\")>,\n",
       " <selenium.webdriver.remote.webelement.WebElement (session=\"7ede09e35cd6f0f525df04aac6a90691\", element=\"f.82124F0202EAA752797C59212BA607E3.d.8216248D6A97149D7741398BC406452E.e.201\")>]"
      ]
     },
     "execution_count": 44,
     "metadata": {},
     "output_type": "execute_result"
    }
   ],
   "source": [
    "multi.all_selected_options"
   ]
  },
  {
   "cell_type": "code",
   "execution_count": 43,
   "metadata": {},
   "outputs": [],
   "source": [
    "for opt in multi.options:\n",
    "    multi.select_by_visible_text(opt.text)"
   ]
  },
  {
   "cell_type": "code",
   "execution_count": 45,
   "metadata": {},
   "outputs": [],
   "source": [
    "multi.deselect_all()"
   ]
  },
  {
   "cell_type": "markdown",
   "metadata": {},
   "source": [
    "# Exemplo : Selecionar 2 elemento de cada Select"
   ]
  },
  {
   "cell_type": "code",
   "execution_count": 46,
   "metadata": {},
   "outputs": [],
   "source": [
    "allSelects = driver.find_elements(By.TAG_NAME, 'select')"
   ]
  },
  {
   "cell_type": "code",
   "execution_count": 48,
   "metadata": {},
   "outputs": [],
   "source": [
    "for item in allSelects:\n",
    "    select = Select(item)\n",
    "    select.select_by_index(1)"
   ]
  },
  {
   "cell_type": "code",
   "execution_count": null,
   "metadata": {},
   "outputs": [],
   "source": []
  },
  {
   "cell_type": "code",
   "execution_count": null,
   "metadata": {},
   "outputs": [],
   "source": []
  },
  {
   "cell_type": "code",
   "execution_count": null,
   "metadata": {},
   "outputs": [],
   "source": []
  },
  {
   "cell_type": "code",
   "execution_count": null,
   "metadata": {},
   "outputs": [],
   "source": []
  }
 ],
 "metadata": {
  "kernelspec": {
   "display_name": "venv",
   "language": "python",
   "name": "python3"
  },
  "language_info": {
   "codemirror_mode": {
    "name": "ipython",
    "version": 3
   },
   "file_extension": ".py",
   "mimetype": "text/x-python",
   "name": "python",
   "nbconvert_exporter": "python",
   "pygments_lexer": "ipython3",
   "version": "3.13.1"
  }
 },
 "nbformat": 4,
 "nbformat_minor": 2
}
