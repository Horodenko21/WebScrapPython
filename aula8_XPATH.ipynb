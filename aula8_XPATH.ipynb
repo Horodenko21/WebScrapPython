{
 "cells": [
  {
   "cell_type": "code",
   "execution_count": null,
   "metadata": {},
   "outputs": [],
   "source": [
    "from selenium import webdriver # Importa driver para navegadores pelo selenium\n",
    "from selenium.webdriver.common.by import By # Importando classe By que server para selecionar os elementos\n",
    "driver = webdriver.Chrome() # Declara que driver é do chrome"
   ]
  },
  {
   "cell_type": "code",
   "execution_count": 2,
   "metadata": {},
   "outputs": [],
   "source": [
    "driver.get('http://localhost:8000/#/exemplo/1') # Declaro pagina que estou acessando"
   ]
  },
  {
   "cell_type": "markdown",
   "metadata": {},
   "source": [
    "Opcoes disponiveis para selecionar elementos diretamente com o Selenium :\n",
    "\n",
    "- ID = \"id\"\n",
    "- NAME = \"name\"\n",
    "- XPATH = \"xpath\"\n",
    "- LINK_TEXT = \"link text\"\n",
    "- PARTIAL_LINK_TEXT = \"partial link text\"\n",
    "- TAG_NAME = \"tag name\"\n",
    "- CLASS_NAME = \"class name\"\n",
    "- CSS_SELECTOR = \"css selector\""
   ]
  },
  {
   "cell_type": "markdown",
   "metadata": {},
   "source": []
  },
  {
   "cell_type": "markdown",
   "metadata": {},
   "source": [
    "# XPATH"
   ]
  },
  {
   "cell_type": "markdown",
   "metadata": {},
   "source": [
    "# 1. Caminho Absoluto"
   ]
  },
  {
   "cell_type": "code",
   "execution_count": 7,
   "metadata": {},
   "outputs": [
    {
     "data": {
      "text/plain": [
       "[<selenium.webdriver.remote.webelement.WebElement (session=\"88c3faa3db340eff0435b958ae584703\", element=\"f.48FAD44383DC5AC44613A3929743B12F.d.C3BB9DA2D35A7481585CB30DC0E6AC63.e.18\")>]"
      ]
     },
     "execution_count": 7,
     "metadata": {},
     "output_type": "execute_result"
    }
   ],
   "source": [
    "driver.find_elements(By.XPATH, '/html/body/div/div/div[2]')"
   ]
  },
  {
   "cell_type": "markdown",
   "metadata": {},
   "source": [
    "# 2. Busca por TAG"
   ]
  },
  {
   "cell_type": "code",
   "execution_count": 8,
   "metadata": {},
   "outputs": [
    {
     "data": {
      "text/plain": [
       "[<selenium.webdriver.remote.webelement.WebElement (session=\"88c3faa3db340eff0435b958ae584703\", element=\"f.48FAD44383DC5AC44613A3929743B12F.d.C3BB9DA2D35A7481585CB30DC0E6AC63.e.12\")>,\n",
       " <selenium.webdriver.remote.webelement.WebElement (session=\"88c3faa3db340eff0435b958ae584703\", element=\"f.48FAD44383DC5AC44613A3929743B12F.d.C3BB9DA2D35A7481585CB30DC0E6AC63.e.13\")>,\n",
       " <selenium.webdriver.remote.webelement.WebElement (session=\"88c3faa3db340eff0435b958ae584703\", element=\"f.48FAD44383DC5AC44613A3929743B12F.d.C3BB9DA2D35A7481585CB30DC0E6AC63.e.14\")>,\n",
       " <selenium.webdriver.remote.webelement.WebElement (session=\"88c3faa3db340eff0435b958ae584703\", element=\"f.48FAD44383DC5AC44613A3929743B12F.d.C3BB9DA2D35A7481585CB30DC0E6AC63.e.15\")>]"
      ]
     },
     "execution_count": 8,
     "metadata": {},
     "output_type": "execute_result"
    }
   ],
   "source": [
    "driver.find_elements(By.XPATH, '//input')"
   ]
  },
  {
   "cell_type": "markdown",
   "metadata": {},
   "source": [
    "# 3. Busca por Posicao"
   ]
  },
  {
   "cell_type": "code",
   "execution_count": 15,
   "metadata": {},
   "outputs": [
    {
     "name": "stdout",
     "output_type": "stream",
     "text": [
      "Sr. Arthur Costa\n",
      "Masculino\n"
     ]
    }
   ],
   "source": [
    "inputs = driver.find_elements(By.XPATH, '//input[1] | //input[4]')\n",
    "\n",
    "for i in inputs:\n",
    "    print(i.get_property('value'))"
   ]
  },
  {
   "cell_type": "markdown",
   "metadata": {},
   "source": [
    "# 4. Busca por Atributos"
   ]
  },
  {
   "cell_type": "code",
   "execution_count": 29,
   "metadata": {},
   "outputs": [
    {
     "data": {
      "text/plain": [
       "[<selenium.webdriver.remote.webelement.WebElement (session=\"88c3faa3db340eff0435b958ae584703\", element=\"f.48FAD44383DC5AC44613A3929743B12F.d.C3BB9DA2D35A7481585CB30DC0E6AC63.e.12\")>]"
      ]
     },
     "execution_count": 29,
     "metadata": {},
     "output_type": "execute_result"
    }
   ],
   "source": [
    "driver.find_elements(By.XPATH, '//input[@id=\"user\"]')"
   ]
  },
  {
   "cell_type": "code",
   "execution_count": 25,
   "metadata": {},
   "outputs": [
    {
     "data": {
      "text/plain": [
       "[<selenium.webdriver.remote.webelement.WebElement (session=\"88c3faa3db340eff0435b958ae584703\", element=\"f.48FAD44383DC5AC44613A3929743B12F.d.C3BB9DA2D35A7481585CB30DC0E6AC63.e.24\")>]"
      ]
     },
     "execution_count": 25,
     "metadata": {},
     "output_type": "execute_result"
    }
   ],
   "source": [
    "driver.find_elements(By.XPATH, '//div[@id=\"social\"]/a[1]')"
   ]
  },
  {
   "cell_type": "code",
   "execution_count": 27,
   "metadata": {},
   "outputs": [
    {
     "data": {
      "text/plain": [
       "[<selenium.webdriver.remote.webelement.WebElement (session=\"88c3faa3db340eff0435b958ae584703\", element=\"f.48FAD44383DC5AC44613A3929743B12F.d.C3BB9DA2D35A7481585CB30DC0E6AC63.e.4\")>,\n",
       " <selenium.webdriver.remote.webelement.WebElement (session=\"88c3faa3db340eff0435b958ae584703\", element=\"f.48FAD44383DC5AC44613A3929743B12F.d.C3BB9DA2D35A7481585CB30DC0E6AC63.e.5\")>,\n",
       " <selenium.webdriver.remote.webelement.WebElement (session=\"88c3faa3db340eff0435b958ae584703\", element=\"f.48FAD44383DC5AC44613A3929743B12F.d.C3BB9DA2D35A7481585CB30DC0E6AC63.e.6\")>,\n",
       " <selenium.webdriver.remote.webelement.WebElement (session=\"88c3faa3db340eff0435b958ae584703\", element=\"f.48FAD44383DC5AC44613A3929743B12F.d.C3BB9DA2D35A7481585CB30DC0E6AC63.e.7\")>,\n",
       " <selenium.webdriver.remote.webelement.WebElement (session=\"88c3faa3db340eff0435b958ae584703\", element=\"f.48FAD44383DC5AC44613A3929743B12F.d.C3BB9DA2D35A7481585CB30DC0E6AC63.e.8\")>]"
      ]
     },
     "execution_count": 27,
     "metadata": {},
     "output_type": "execute_result"
    }
   ],
   "source": [
    "driver.find_elements(By.XPATH, '//div[@id=\"social\"]//span')"
   ]
  },
  {
   "cell_type": "code",
   "execution_count": null,
   "metadata": {},
   "outputs": [],
   "source": []
  },
  {
   "cell_type": "code",
   "execution_count": null,
   "metadata": {},
   "outputs": [],
   "source": []
  },
  {
   "cell_type": "code",
   "execution_count": null,
   "metadata": {},
   "outputs": [],
   "source": []
  },
  {
   "cell_type": "code",
   "execution_count": null,
   "metadata": {},
   "outputs": [],
   "source": []
  }
 ],
 "metadata": {
  "kernelspec": {
   "display_name": "venv",
   "language": "python",
   "name": "python3"
  },
  "language_info": {
   "codemirror_mode": {
    "name": "ipython",
    "version": 3
   },
   "file_extension": ".py",
   "mimetype": "text/x-python",
   "name": "python",
   "nbconvert_exporter": "python",
   "pygments_lexer": "ipython3",
   "version": "3.13.1"
  }
 },
 "nbformat": 4,
 "nbformat_minor": 2
}
