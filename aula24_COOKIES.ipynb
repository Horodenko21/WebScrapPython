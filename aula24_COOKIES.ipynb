{
 "cells": [
  {
   "cell_type": "code",
   "execution_count": 15,
   "metadata": {},
   "outputs": [],
   "source": [
    "from selenium import webdriver # Importa driver para navegadores pelo selenium\n",
    "from selenium.webdriver.common.by import By # Importando classe By que server para selecionar os elementos\n",
    "from selenium.webdriver.common.keys import Keys # Importo todas as teclas do teclado pelo pacote do Selenium\n",
    "from selenium.webdriver.support.ui import Select # Import necessario para selecao de elementos em dropdown/selector\n",
    "from selenium.webdriver.support.wait import WebDriverWait # Import da classe WAIT, serve para dizer o quanto se deve esperar pro navegador\n",
    "from selenium.webdriver.support import expected_conditions as EC # Import de expected_conditions, e da nome reduzido (alias) EC\n",
    "from dataclasses import dataclass # Import dataclass, como se fosse um objeto\n",
    "import urllib.request # Import request para fazer uma requisicao para um determinado link e pegar todas as informacoes de determinado link\n",
    "import os # Permite trabalhar com o Sistema Operacional\n",
    "from selenium.webdriver.common.action_chains import ActionChains # Import da classe ActionChains\n",
    "from pandas.io.clipboard import clipboard_set, clipboard_get # Import para mexer com menu de contexto\n",
    "from io import StringIO # Import StringIO para PANDAS\n",
    "import pandas as pd # Import do PANDAS\n",
    "\n",
    "driver = webdriver.Chrome() # Declara que driver é do chrome\n",
    "driver.implicitly_wait(time_to_wait=10)"
   ]
  },
  {
   "cell_type": "code",
   "execution_count": 28,
   "metadata": {},
   "outputs": [],
   "source": [
    "driver.get('http://localhost:8000/#/exemplo/10') # Declaro pagina que estou acessando"
   ]
  },
  {
   "cell_type": "code",
   "execution_count": 29,
   "metadata": {},
   "outputs": [],
   "source": [
    "cookie = {'name': 'usuario', 'value': 'Dalton'}"
   ]
  },
  {
   "cell_type": "code",
   "execution_count": 30,
   "metadata": {},
   "outputs": [],
   "source": [
    "driver.add_cookie(cookie)"
   ]
  },
  {
   "cell_type": "code",
   "execution_count": 31,
   "metadata": {},
   "outputs": [
    {
     "data": {
      "text/plain": [
       "[{'domain': 'localhost',\n",
       "  'httpOnly': False,\n",
       "  'name': 'usuario',\n",
       "  'path': '/',\n",
       "  'sameSite': 'Lax',\n",
       "  'secure': False,\n",
       "  'value': 'Dalton'}]"
      ]
     },
     "execution_count": 31,
     "metadata": {},
     "output_type": "execute_result"
    }
   ],
   "source": [
    "driver.get_cookies()"
   ]
  },
  {
   "cell_type": "code",
   "execution_count": 32,
   "metadata": {},
   "outputs": [
    {
     "data": {
      "text/plain": [
       "{'domain': 'localhost',\n",
       " 'httpOnly': False,\n",
       " 'name': 'usuario',\n",
       " 'path': '/',\n",
       " 'sameSite': 'Lax',\n",
       " 'secure': False,\n",
       " 'value': 'Dalton'}"
      ]
     },
     "execution_count": 32,
     "metadata": {},
     "output_type": "execute_result"
    }
   ],
   "source": [
    "driver.get_cookie('usuario')"
   ]
  },
  {
   "cell_type": "code",
   "execution_count": 33,
   "metadata": {},
   "outputs": [],
   "source": [
    "driver.delete_cookie('usuario')"
   ]
  },
  {
   "cell_type": "code",
   "execution_count": 34,
   "metadata": {},
   "outputs": [],
   "source": [
    "driver.delete_all_cookies()"
   ]
  },
  {
   "cell_type": "code",
   "execution_count": 35,
   "metadata": {},
   "outputs": [],
   "source": [
    "driver.get('http://google.com')"
   ]
  },
  {
   "cell_type": "code",
   "execution_count": 36,
   "metadata": {},
   "outputs": [
    {
     "data": {
      "text/plain": [
       "[{'domain': '.google.com',\n",
       "  'expiry': 1760095251,\n",
       "  'httpOnly': True,\n",
       "  'name': 'NID',\n",
       "  'path': '/',\n",
       "  'sameSite': 'None',\n",
       "  'secure': True,\n",
       "  'value': '523=o2FRO6T33CRvCgt7Wkt5lyqujGwWBXt2rWDvUtOpo2zAUfe5GnCdDbRSxe-3GBMVnqmE5oyfRXli1461aAN-0wbdGLcYjG5Rhd_t43nBDftOnlI0ORc-k5wbAqYXaPVde7q4Fq4MUet1x0ijQwr5mltZ6COlr_b8qf-wrbjVAjQR--AhHdKcspQUVRqJByT862fhIctwnCQ74B_BMERzOcCsOtltDL3E8e6o'},\n",
       " {'domain': 'www.google.com',\n",
       "  'expiry': 1744305705,\n",
       "  'httpOnly': False,\n",
       "  'name': 'UULE',\n",
       "  'path': '/',\n",
       "  'sameSite': 'Lax',\n",
       "  'secure': True,\n",
       "  'value': 'a+cm9sZTogMQpwcm9kdWNlcjogMTIKdGltZXN0YW1wOiAxNzQ0Mjg0MTA1MTgwMDAwCmxhdGxuZyB7CiAgbGF0aXR1ZGVfZTc6IC0yMzQ4ODEwMjQKICBsb25naXR1ZGVfZTc6IC00Njg3NDYyNDAKfQpyYWRpdXM6IDU0ODM4Ny4yMDc2MzM2MDA2CnByb3ZlbmFuY2U6IDYK'},\n",
       " {'domain': '.google.com',\n",
       "  'expiry': 1759836050,\n",
       "  'httpOnly': True,\n",
       "  'name': 'AEC',\n",
       "  'path': '/',\n",
       "  'sameSite': 'Lax',\n",
       "  'secure': True,\n",
       "  'value': 'AVcja2f2spXb7RsgwlOubWdj2xhIqv8Tn2oUAiIsE3Tcc1XLP4Evk8RNUA'}]"
      ]
     },
     "execution_count": 36,
     "metadata": {},
     "output_type": "execute_result"
    }
   ],
   "source": [
    "driver.get_cookies()"
   ]
  },
  {
   "cell_type": "markdown",
   "metadata": {},
   "source": [
    "# Magazine"
   ]
  },
  {
   "cell_type": "code",
   "execution_count": null,
   "metadata": {},
   "outputs": [],
   "source": [
    "driver.get('https://www.magazineluiza.com.br')"
   ]
  },
  {
   "cell_type": "code",
   "execution_count": 41,
   "metadata": {},
   "outputs": [
    {
     "data": {
      "text/plain": [
       "63"
      ]
     },
     "execution_count": 41,
     "metadata": {},
     "output_type": "execute_result"
    }
   ],
   "source": [
    "carrinhoVazio = driver.get_cookies()\n",
    "len(carrinhoVazio)"
   ]
  },
  {
   "cell_type": "code",
   "execution_count": 42,
   "metadata": {},
   "outputs": [
    {
     "data": {
      "text/plain": [
       "76"
      ]
     },
     "execution_count": 42,
     "metadata": {},
     "output_type": "execute_result"
    }
   ],
   "source": [
    "carrinhoCheio = driver.get_cookies()\n",
    "len(carrinhoCheio)"
   ]
  },
  {
   "cell_type": "code",
   "execution_count": 43,
   "metadata": {},
   "outputs": [],
   "source": [
    "driver.delete_all_cookies()"
   ]
  },
  {
   "cell_type": "code",
   "execution_count": null,
   "metadata": {},
   "outputs": [],
   "source": []
  },
  {
   "cell_type": "code",
   "execution_count": null,
   "metadata": {},
   "outputs": [],
   "source": []
  },
  {
   "cell_type": "code",
   "execution_count": null,
   "metadata": {},
   "outputs": [],
   "source": []
  }
 ],
 "metadata": {
  "kernelspec": {
   "display_name": "venv",
   "language": "python",
   "name": "python3"
  },
  "language_info": {
   "codemirror_mode": {
    "name": "ipython",
    "version": 3
   },
   "file_extension": ".py",
   "mimetype": "text/x-python",
   "name": "python",
   "nbconvert_exporter": "python",
   "pygments_lexer": "ipython3",
   "version": "3.13.1"
  }
 },
 "nbformat": 4,
 "nbformat_minor": 2
}
