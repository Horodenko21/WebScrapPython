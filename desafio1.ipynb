{
 "cells": [
  {
   "cell_type": "code",
   "execution_count": 1,
   "metadata": {},
   "outputs": [],
   "source": [
    "from selenium import webdriver # Importa driver para navegadores pelo selenium\n",
    "from selenium.webdriver.common.by import By # Importando classe By que server para selecionar os elementos\n",
    "from selenium.webdriver.common.keys import Keys # Importo todas as teclas do teclado pelo pacote do Selenium\n",
    "from selenium.webdriver.support.ui import Select # Import necessario para selecao de elementos em dropdown/selector\n",
    "\n",
    "driver = webdriver.Chrome() # Declara que driver é do chrome"
   ]
  },
  {
   "cell_type": "code",
   "execution_count": null,
   "metadata": {},
   "outputs": [],
   "source": [
    "driver.get('http://localhost:8000/#/desafio/1') # Declaro pagina que estou acessando"
   ]
  },
  {
   "cell_type": "code",
   "execution_count": 28,
   "metadata": {},
   "outputs": [],
   "source": [
    "allInputs = driver.find_elements(By.TAG_NAME, 'input')\n",
    "\n",
    "for i in allInputs:\n",
    "    if(i.get_attribute('type') != 'checkbox'):\n",
    "        i.clear()\n",
    "    "
   ]
  },
  {
   "cell_type": "code",
   "execution_count": 29,
   "metadata": {},
   "outputs": [],
   "source": [
    "email = driver.find_element(By.CSS_SELECTOR, r'#radix-\\:r0\\:')\n",
    "email.send_keys('test@test.com')\n",
    "\n",
    "senha = driver.find_element(By.CSS_SELECTOR, r'#radix-\\:r1\\:')\n",
    "senha.send_keys('senha123')"
   ]
  },
  {
   "cell_type": "code",
   "execution_count": null,
   "metadata": {},
   "outputs": [],
   "source": [
    "diaNasc = Select(driver.find_element(By.CSS_SELECTOR, r'#radix-\\:r2\\:'))\n",
    "diaNasc.select_by_visible_text('21')\n",
    "\n",
    "mesNasc = Select(driver.find_element(By.CSS_SELECTOR, r'#radix-\\:r3\\:'))\n",
    "mesNasc.select_by_visible_text('6')\n",
    "\n",
    "anoNasc = Select(driver.find_element(By.CSS_SELECTOR, r'#radix-\\:r4\\:'))\n",
    "anoNasc.select_by_visible_text('2001')"
   ]
  },
  {
   "cell_type": "code",
   "execution_count": 31,
   "metadata": {},
   "outputs": [],
   "source": [
    "driver.find_element(By.CSS_SELECTOR, '#airplane-mode').click()\n"
   ]
  },
  {
   "cell_type": "code",
   "execution_count": 32,
   "metadata": {},
   "outputs": [],
   "source": [
    "driver.find_element(By.CSS_SELECTOR, r'#root > div > div.main-container > main > div.relative.bg-white.dark\\:bg-gray-800.px-6.pt-10.pb-8.shadow-xl.ring-1.ring-gray-900\\/5.rounded-lg.sm\\:px-10 > div > form > button').click()"
   ]
  },
  {
   "cell_type": "code",
   "execution_count": null,
   "metadata": {},
   "outputs": [],
   "source": []
  },
  {
   "cell_type": "code",
   "execution_count": null,
   "metadata": {},
   "outputs": [],
   "source": []
  },
  {
   "cell_type": "code",
   "execution_count": null,
   "metadata": {},
   "outputs": [],
   "source": []
  },
  {
   "cell_type": "code",
   "execution_count": null,
   "metadata": {},
   "outputs": [],
   "source": []
  }
 ],
 "metadata": {
  "kernelspec": {
   "display_name": "venv",
   "language": "python",
   "name": "python3"
  },
  "language_info": {
   "codemirror_mode": {
    "name": "ipython",
    "version": 3
   },
   "file_extension": ".py",
   "mimetype": "text/x-python",
   "name": "python",
   "nbconvert_exporter": "python",
   "pygments_lexer": "ipython3",
   "version": "3.13.1"
  }
 },
 "nbformat": 4,
 "nbformat_minor": 2
}
