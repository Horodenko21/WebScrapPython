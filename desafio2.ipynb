{
 "cells": [
  {
   "cell_type": "code",
   "execution_count": 79,
   "metadata": {},
   "outputs": [],
   "source": [
    "from selenium import webdriver # Importa driver para navegadores pelo selenium\n",
    "from selenium.webdriver.common.by import By # Importando classe By que server para selecionar os elementos\n",
    "from selenium.webdriver.common.keys import Keys # Importo todas as teclas do teclado pelo pacote do Selenium\n",
    "from selenium.webdriver.support.ui import Select # Import necessario para selecao de elementos em dropdown/selector\n",
    "from selenium.webdriver.support.wait import WebDriverWait # Import da classe WAIT, serve para dizer o quanto se deve esperar pro navegador\n",
    "from selenium.webdriver.support import expected_conditions as EC # Import de expected_conditions, e da nome reduzido (alias) EC\n",
    "\n",
    "driver = webdriver.Chrome() # Declara que driver é do chrome"
   ]
  },
  {
   "cell_type": "code",
   "execution_count": 80,
   "metadata": {},
   "outputs": [],
   "source": [
    "from dataclasses import dataclass\n",
    "\n",
    "@dataclass\n",
    "class Usuario:\n",
    "    foto: str\n",
    "    nome: str\n",
    "    profissao: str\n",
    "    email: str\n",
    "    telefone: str\n",
    "    user: str\n",
    "    estado: str\n"
   ]
  },
  {
   "cell_type": "code",
   "execution_count": 81,
   "metadata": {},
   "outputs": [],
   "source": [
    "driver.get('http://localhost:8000/#/desafio/2') # Declaro pagina que estou acessando"
   ]
  },
  {
   "cell_type": "markdown",
   "metadata": {},
   "source": [
    "# Usuarios a serem buscados\n",
    "\n",
    "- Dalton\n",
    "- Emily\n",
    "- Nadia\n",
    "- Joao\n",
    "- Leonardo\n",
    "- Silvana\n",
    "- Rafael"
   ]
  },
  {
   "cell_type": "code",
   "execution_count": 82,
   "metadata": {},
   "outputs": [],
   "source": [
    "listaPesquisa = ['Dalton', 'Emily', 'Nadia', 'Joao', 'Leonardo', 'Silvana', 'Rafael']"
   ]
  },
  {
   "cell_type": "code",
   "execution_count": 83,
   "metadata": {},
   "outputs": [],
   "source": [
    "driver.implicitly_wait(time_to_wait=10)"
   ]
  },
  {
   "cell_type": "code",
   "execution_count": 87,
   "metadata": {},
   "outputs": [],
   "source": [
    "wait = WebDriverWait(driver=driver, timeout=15, poll_frequency=1) \n"
   ]
  },
  {
   "cell_type": "code",
   "execution_count": 86,
   "metadata": {},
   "outputs": [],
   "source": [
    "pesquisa = driver.find_element(By.CSS_SELECTOR, 'main input[type=\"text\"]')\n",
    "pesquisaBtn = driver.find_element(By.CSS_SELECTOR, 'main button')\n",
    "\n",
    "data = []"
   ]
  },
  {
   "cell_type": "code",
   "execution_count": 88,
   "metadata": {},
   "outputs": [],
   "source": [
    "for pessoa in listaPesquisa:\n",
    "    \n",
    "    # Preenche info de pesquisa\n",
    "    pesquisa.clear()\n",
    "    pesquisa.send_keys(pessoa)\n",
    "\n",
    "    # Espero ate que botao seja clickavel para pesquisar e fazer a pesquisa\n",
    "    wait.until(EC.element_to_be_clickable(mark=pesquisaBtn))\n",
    "    pesquisaBtn.click()\n",
    "\n",
    "    # Obtenho todos usuarios na busca (Espero imagens serem carregadas)\n",
    "    locator = (By.CSS_SELECTOR, 'div.users-list > div > img')\n",
    "    wait.until(EC.visibility_of_all_elements_located(locator=locator))\n",
    "    usuarios = driver.find_elements(By.CSS_SELECTOR, 'div.users-list > div')\n",
    "\n",
    "    for u in usuarios:\n",
    "\n",
    "        imgPath = u.find_element(By.TAG_NAME, 'img').get_attribute('src')\n",
    "        nome = u.find_element(By.TAG_NAME, 'h3').text\n",
    "        profissao = u.find_element(By.TAG_NAME, 'span').text\n",
    "        email = u.find_element(By.CSS_SELECTOR, 'ul > li:nth-child(1)').text\n",
    "        telefone = u.find_element(By.CSS_SELECTOR, 'ul > li:nth-child(2)').text\n",
    "        user = u.find_element(By.CSS_SELECTOR, 'ul > li:nth-child(3)').text\n",
    "        estado = u.find_element(By.CSS_SELECTOR, 'ul > li:nth-child(4)').text\n",
    "\n",
    "        userData = Usuario(\n",
    "            foto = imgPath,\n",
    "            nome = nome,\n",
    "            profissao = profissao,\n",
    "            email = email[8:],\n",
    "            telefone = telefone[10:],\n",
    "            user = user[9:],\n",
    "            estado = estado[8:]\n",
    "        )\n",
    "\n",
    "        data.append(userData)"
   ]
  },
  {
   "cell_type": "markdown",
   "metadata": {},
   "source": [
    "# Salvando em JSON"
   ]
  },
  {
   "cell_type": "code",
   "execution_count": 94,
   "metadata": {},
   "outputs": [],
   "source": [
    "from dataclasses import asdict # Converte instancia do dataclass pra dicionario do python\n",
    "import json"
   ]
  },
  {
   "cell_type": "code",
   "execution_count": 97,
   "metadata": {},
   "outputs": [
    {
     "data": {
      "text/plain": [
       "{'foto': 'https://avatars.githubusercontent.com/u/22959227',\n",
       " 'nome': 'Dalton Martins',\n",
       " 'profissao': 'Gerente',\n",
       " 'email': 'dalton.martins22@example.org',\n",
       " 'telefone': '(84) 23117-2586',\n",
       " 'user': 'dalton.martins44',\n",
       " 'estado': 'Paraíba'}"
      ]
     },
     "execution_count": 97,
     "metadata": {},
     "output_type": "execute_result"
    }
   ],
   "source": [
    "asdict(data[0])"
   ]
  },
  {
   "cell_type": "code",
   "execution_count": 102,
   "metadata": {},
   "outputs": [],
   "source": [
    "with open('dadosCapturados.json', 'w') as file:\n",
    "    dataFormatted = [asdict(d) for d in data]\n",
    "    json.dump(dataFormatted, file, ensure_ascii=True)"
   ]
  },
  {
   "cell_type": "code",
   "execution_count": 103,
   "metadata": {},
   "outputs": [],
   "source": [
    "import csv\n",
    "from dataclasses import fields"
   ]
  },
  {
   "cell_type": "code",
   "execution_count": 105,
   "metadata": {},
   "outputs": [],
   "source": [
    "with open('dadosCapturados.csv', 'w') as csvFile:\n",
    "    headers = [field.name for field in fields(Usuario)]\n",
    "    file = csv.DictWriter(csvFile, fieldnames=headers)\n",
    "    \n",
    "    file.writeheader()\n",
    "    dataFormatted = [asdict(d) for d in data]\n",
    "    file.writerows(dataFormatted)"
   ]
  },
  {
   "cell_type": "code",
   "execution_count": null,
   "metadata": {},
   "outputs": [],
   "source": []
  }
 ],
 "metadata": {
  "kernelspec": {
   "display_name": "venv",
   "language": "python",
   "name": "python3"
  },
  "language_info": {
   "codemirror_mode": {
    "name": "ipython",
    "version": 3
   },
   "file_extension": ".py",
   "mimetype": "text/x-python",
   "name": "python",
   "nbconvert_exporter": "python",
   "pygments_lexer": "ipython3",
   "version": "3.13.1"
  }
 },
 "nbformat": 4,
 "nbformat_minor": 2
}
