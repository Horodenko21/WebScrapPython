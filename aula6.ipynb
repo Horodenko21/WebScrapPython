{
 "cells": [
  {
   "cell_type": "code",
   "execution_count": 2,
   "metadata": {},
   "outputs": [],
   "source": [
    "from selenium import webdriver # Importa driver para navegadores pelo selenium\n",
    "from selenium.webdriver.common.by import By # Importando classe By que server para selecionar os elementos\n",
    "driver = webdriver.Chrome() # Declara que driver é do chrome"
   ]
  },
  {
   "cell_type": "code",
   "execution_count": 3,
   "metadata": {},
   "outputs": [],
   "source": [
    "driver.get('http://localhost:8000/#/exemplo/1') # Declaro pagina que estou acessando"
   ]
  },
  {
   "cell_type": "markdown",
   "metadata": {},
   "source": [
    "Opcoes disponiveis para selecionar elementos diretamente com o Selenium :\n",
    "\n",
    "- ID = \"id\"\n",
    "- NAME = \"name\"\n",
    "- XPATH = \"xpath\"\n",
    "- LINK_TEXT = \"link text\"\n",
    "- PARTIAL_LINK_TEXT = \"partial link text\"\n",
    "- TAG_NAME = \"tag name\"\n",
    "- CLASS_NAME = \"class name\"\n",
    "- CSS_SELECTOR = \"css selector\""
   ]
  },
  {
   "cell_type": "code",
   "execution_count": null,
   "metadata": {},
   "outputs": [
    {
     "name": "stdout",
     "output_type": "stream",
     "text": [
      "Víctor Braga\n",
      "Chefe Branding Facilitador\n",
      "Áries\n",
      "Feminino\n"
     ]
    }
   ],
   "source": [
    "inputs = driver.find_elements(By.CLASS_NAME, 'styled-input') # Declaro que quero elementos pela CLASS_NAME\n",
    "\n",
    "for i in inputs:\n",
    "    value = i.get_property('value')\n",
    "    print(value)"
   ]
  },
  {
   "cell_type": "code",
   "execution_count": null,
   "metadata": {},
   "outputs": [
    {
     "data": {
      "text/plain": [
       "[<selenium.webdriver.remote.webelement.WebElement (session=\"89f6c280bf62947ebb73f01b834f894e\", element=\"f.1A2A9BD7D47E40B9B7F99844A40226CF.d.4F91AE1718FD2751E36F4B349C8B71A3.e.14\")>,\n",
       " <selenium.webdriver.remote.webelement.WebElement (session=\"89f6c280bf62947ebb73f01b834f894e\", element=\"f.1A2A9BD7D47E40B9B7F99844A40226CF.d.4F91AE1718FD2751E36F4B349C8B71A3.e.15\")>]"
      ]
     },
     "execution_count": 13,
     "metadata": {},
     "output_type": "execute_result"
    }
   ],
   "source": [
    "driver.find_elements(By.CLASS_NAME, 'styled-input.optional-info') # Declaro que quero elementos pelas CLASS_NAMES (PARAMETRO1.PARAMETRO2)"
   ]
  },
  {
   "cell_type": "code",
   "execution_count": null,
   "metadata": {},
   "outputs": [],
   "source": []
  },
  {
   "cell_type": "code",
   "execution_count": null,
   "metadata": {},
   "outputs": [],
   "source": []
  },
  {
   "cell_type": "code",
   "execution_count": null,
   "metadata": {},
   "outputs": [],
   "source": []
  }
 ],
 "metadata": {
  "kernelspec": {
   "display_name": "venv",
   "language": "python",
   "name": "python3"
  },
  "language_info": {
   "codemirror_mode": {
    "name": "ipython",
    "version": 3
   },
   "file_extension": ".py",
   "mimetype": "text/x-python",
   "name": "python",
   "nbconvert_exporter": "python",
   "pygments_lexer": "ipython3",
   "version": "3.13.1"
  }
 },
 "nbformat": 4,
 "nbformat_minor": 2
}
