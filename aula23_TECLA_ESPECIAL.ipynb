{
 "cells": [
  {
   "cell_type": "code",
   "execution_count": 1,
   "metadata": {},
   "outputs": [],
   "source": [
    "from selenium import webdriver # Importa driver para navegadores pelo selenium\n",
    "from selenium.webdriver.common.by import By # Importando classe By que server para selecionar os elementos\n",
    "from selenium.webdriver.common.keys import Keys # Importo todas as teclas do teclado pelo pacote do Selenium\n",
    "from selenium.webdriver.support.ui import Select # Import necessario para selecao de elementos em dropdown/selector\n",
    "from selenium.webdriver.support.wait import WebDriverWait # Import da classe WAIT, serve para dizer o quanto se deve esperar pro navegador\n",
    "from selenium.webdriver.support import expected_conditions as EC # Import de expected_conditions, e da nome reduzido (alias) EC\n",
    "from dataclasses import dataclass # Import dataclass, como se fosse um objeto\n",
    "import urllib.request # Import request para fazer uma requisicao para um determinado link e pegar todas as informacoes de determinado link\n",
    "import os # Permite trabalhar com o Sistema Operacional\n",
    "from selenium.webdriver.common.action_chains import ActionChains # Import da classe ActionChains\n",
    "from pandas.io.clipboard import clipboard_set, clipboard_get # Import para mexer com menu de contexto\n",
    "\n",
    "driver = webdriver.Chrome() # Declara que driver é do chrome\n",
    "driver.implicitly_wait(time_to_wait=10)"
   ]
  },
  {
   "cell_type": "code",
   "execution_count": 2,
   "metadata": {},
   "outputs": [],
   "source": [
    "driver.get('http://localhost:8000/#/exemplo/9') # Declaro pagina que estou acessando"
   ]
  },
  {
   "cell_type": "code",
   "execution_count": 4,
   "metadata": {},
   "outputs": [],
   "source": [
    "ActionChains(driver).send_keys(Keys.CONTROL).perform()"
   ]
  },
  {
   "cell_type": "code",
   "execution_count": 5,
   "metadata": {},
   "outputs": [],
   "source": [
    "ActionChains(driver).send_keys(Keys.ALT).perform()"
   ]
  },
  {
   "cell_type": "code",
   "execution_count": 6,
   "metadata": {},
   "outputs": [],
   "source": [
    "ActionChains(driver).send_keys(Keys.SHIFT).perform()"
   ]
  },
  {
   "cell_type": "code",
   "execution_count": 7,
   "metadata": {},
   "outputs": [],
   "source": [
    "ActionChains(driver).send_keys(Keys.META).perform()"
   ]
  },
  {
   "cell_type": "code",
   "execution_count": 8,
   "metadata": {},
   "outputs": [],
   "source": [
    "ActionChains(driver).send_keys(Keys.COMMAND).perform()"
   ]
  },
  {
   "cell_type": "code",
   "execution_count": 9,
   "metadata": {},
   "outputs": [],
   "source": [
    "titulo = driver.find_element(By.CSS_SELECTOR, 'main div.title')\n",
    "\n",
    "ActionChains(driver).double_click(titulo).click(titulo).perform()"
   ]
  },
  {
   "cell_type": "code",
   "execution_count": null,
   "metadata": {},
   "outputs": [],
   "source": [
    "(\n",
    "    ActionChains(driver)\n",
    "    .key_down(Keys.META) # META = CONTROL(WIN) = COMMAND(MAC)\n",
    "    .send_keys('c')\n",
    "    .key_up(Keys.META) # META = CONTROL(WIN) = COMMAND(MAC)\n",
    "    .perform()\n",
    ")"
   ]
  },
  {
   "cell_type": "code",
   "execution_count": 11,
   "metadata": {},
   "outputs": [
    {
     "data": {
      "text/plain": [
       "['ADD',\n",
       " 'ALT',\n",
       " 'ARROW_DOWN',\n",
       " 'ARROW_LEFT',\n",
       " 'ARROW_RIGHT',\n",
       " 'ARROW_UP',\n",
       " 'BACKSPACE',\n",
       " 'BACK_SPACE',\n",
       " 'CANCEL',\n",
       " 'CLEAR',\n",
       " 'COMMAND',\n",
       " 'CONTROL',\n",
       " 'DECIMAL',\n",
       " 'DELETE',\n",
       " 'DIVIDE',\n",
       " 'DOWN',\n",
       " 'END',\n",
       " 'ENTER',\n",
       " 'EQUALS',\n",
       " 'ESCAPE',\n",
       " 'F1',\n",
       " 'F10',\n",
       " 'F11',\n",
       " 'F12',\n",
       " 'F2',\n",
       " 'F3',\n",
       " 'F4',\n",
       " 'F5',\n",
       " 'F6',\n",
       " 'F7',\n",
       " 'F8',\n",
       " 'F9',\n",
       " 'HELP',\n",
       " 'HOME',\n",
       " 'INSERT',\n",
       " 'LEFT',\n",
       " 'LEFT_ALT',\n",
       " 'LEFT_CONTROL',\n",
       " 'LEFT_SHIFT',\n",
       " 'META',\n",
       " 'MULTIPLY',\n",
       " 'NULL',\n",
       " 'NUMPAD0',\n",
       " 'NUMPAD1',\n",
       " 'NUMPAD2',\n",
       " 'NUMPAD3',\n",
       " 'NUMPAD4',\n",
       " 'NUMPAD5',\n",
       " 'NUMPAD6',\n",
       " 'NUMPAD7',\n",
       " 'NUMPAD8',\n",
       " 'NUMPAD9',\n",
       " 'PAGE_DOWN',\n",
       " 'PAGE_UP',\n",
       " 'PAUSE',\n",
       " 'RETURN',\n",
       " 'RIGHT',\n",
       " 'SEMICOLON',\n",
       " 'SEPARATOR',\n",
       " 'SHIFT',\n",
       " 'SPACE',\n",
       " 'SUBTRACT',\n",
       " 'TAB',\n",
       " 'UP',\n",
       " 'ZENKAKU_HANKAKU',\n",
       " '__class__',\n",
       " '__delattr__',\n",
       " '__dict__',\n",
       " '__dir__',\n",
       " '__doc__',\n",
       " '__eq__',\n",
       " '__firstlineno__',\n",
       " '__format__',\n",
       " '__ge__',\n",
       " '__getattribute__',\n",
       " '__getstate__',\n",
       " '__gt__',\n",
       " '__hash__',\n",
       " '__init__',\n",
       " '__init_subclass__',\n",
       " '__le__',\n",
       " '__lt__',\n",
       " '__module__',\n",
       " '__ne__',\n",
       " '__new__',\n",
       " '__reduce__',\n",
       " '__reduce_ex__',\n",
       " '__repr__',\n",
       " '__setattr__',\n",
       " '__sizeof__',\n",
       " '__static_attributes__',\n",
       " '__str__',\n",
       " '__subclasshook__',\n",
       " '__weakref__']"
      ]
     },
     "execution_count": 11,
     "metadata": {},
     "output_type": "execute_result"
    }
   ],
   "source": [
    "dir(Keys)"
   ]
  },
  {
   "cell_type": "code",
   "execution_count": null,
   "metadata": {},
   "outputs": [],
   "source": [
    "(\n",
    "    ActionChains(driver)\n",
    "\n",
    "    #Matematicas\n",
    "    .send_keys(Keys.ADD)\n",
    "    .send_keys(Keys.SUBTRACT)\n",
    "    .send_keys(Keys.DIVIDE)\n",
    "    .send_keys(Keys.MULTIPLY)\n",
    "    .send_keys(Keys.EQUALS)\n",
    "\n",
    "    #Contexto\n",
    "    .send_keys(Keys.SEMICOLON)\n",
    "    .send_keys(Keys.SEPARATOR)\n",
    "    .send_keys(Keys.SPACE)\n",
    "    .send_keys(Keys.TAB)\n",
    "    .send_keys(Keys.ESCAPE)\n",
    "\n",
    "    #Combo\n",
    "    .key_down(Keys.META) # META = CONTROL(WIN) = COMMAND(MAC)\n",
    "    .send_keys('c')\n",
    "    .key_up(Keys.META) # META = CONTROL(WIN) = COMMAND(MAC)\n",
    "    \n",
    "    #Multiplos\n",
    "    .send_keys('1', '2', '3') # Envia um por vez! Primerio envia o 1(key_down, key_up), depois envia 2(key_down, key_up) e depois o 3(key_down, key_up)\n",
    "\n",
    "    .perform()\n",
    ")"
   ]
  },
  {
   "cell_type": "code",
   "execution_count": null,
   "metadata": {},
   "outputs": [],
   "source": []
  },
  {
   "cell_type": "code",
   "execution_count": null,
   "metadata": {},
   "outputs": [],
   "source": []
  },
  {
   "cell_type": "code",
   "execution_count": null,
   "metadata": {},
   "outputs": [],
   "source": []
  },
  {
   "cell_type": "code",
   "execution_count": null,
   "metadata": {},
   "outputs": [],
   "source": []
  },
  {
   "cell_type": "code",
   "execution_count": null,
   "metadata": {},
   "outputs": [],
   "source": []
  },
  {
   "cell_type": "code",
   "execution_count": null,
   "metadata": {},
   "outputs": [],
   "source": []
  }
 ],
 "metadata": {
  "kernelspec": {
   "display_name": "venv",
   "language": "python",
   "name": "python3"
  },
  "language_info": {
   "codemirror_mode": {
    "name": "ipython",
    "version": 3
   },
   "file_extension": ".py",
   "mimetype": "text/x-python",
   "name": "python",
   "nbconvert_exporter": "python",
   "pygments_lexer": "ipython3",
   "version": "3.13.1"
  }
 },
 "nbformat": 4,
 "nbformat_minor": 2
}
