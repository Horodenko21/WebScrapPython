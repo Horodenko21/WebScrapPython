{
 "cells": [
  {
   "cell_type": "code",
   "execution_count": 1,
   "metadata": {},
   "outputs": [],
   "source": [
    "from selenium import webdriver # Importa driver para navegadores pelo selenium\n",
    "from selenium.webdriver.common.by import By # Importando classe By que server para selecionar os elementos\n",
    "from selenium.webdriver.common.keys import Keys # Importo todas as teclas do teclado pelo pacote do Selenium\n",
    "from selenium.webdriver.support.ui import Select # Import necessario para selecao de elementos em dropdown/selector\n",
    "from selenium.webdriver.support.wait import WebDriverWait # Import da classe WAIT, serve para dizer o quanto se deve esperar pro navegador\n",
    "from selenium.webdriver.support import expected_conditions as EC # Import de expected_conditions, e da nome reduzido (alias) EC\n",
    "from dataclasses import dataclass # Import dataclass, como se fosse um objeto\n",
    "import urllib.request # Import request para fazer uma requisicao para um determinado link e pegar todas as informacoes de determinado link\n",
    "import os # Permite trabalhar com o Sistema Operacional\n",
    "\n",
    "driver = webdriver.Chrome() # Declara que driver é do chrome\n",
    "driver.implicitly_wait(time_to_wait=10)"
   ]
  },
  {
   "cell_type": "code",
   "execution_count": 2,
   "metadata": {},
   "outputs": [],
   "source": [
    "driver.get('http://localhost:8000/#/exemplo/8') # Declaro pagina que estou acessando"
   ]
  },
  {
   "cell_type": "code",
   "execution_count": 3,
   "metadata": {},
   "outputs": [],
   "source": [
    "table = driver.find_element(By.ID, 'tabela-usuarios')"
   ]
  },
  {
   "cell_type": "code",
   "execution_count": 4,
   "metadata": {},
   "outputs": [],
   "source": [
    "linhas = table.find_elements(By.CSS_SELECTOR, 'tbody tr')"
   ]
  },
  {
   "cell_type": "code",
   "execution_count": 6,
   "metadata": {},
   "outputs": [],
   "source": [
    "@dataclass\n",
    "class User:\n",
    "    avatar: str\n",
    "    name: str\n",
    "    job: str\n",
    "    email: str\n",
    "    profile: str\n",
    "    state: str"
   ]
  },
  {
   "cell_type": "code",
   "execution_count": 8,
   "metadata": {},
   "outputs": [],
   "source": [
    "registros = []\n",
    "\n",
    "for linha in linhas:\n",
    "    dados = linha.get_property('children')\n",
    "\n",
    "    registro = User(\n",
    "        avatar = dados[0].find_element(By.TAG_NAME, 'img').get_attribute('src'),\n",
    "        name = dados[1].text,\n",
    "        job = dados[2].text,\n",
    "        email = dados[3].text,\n",
    "        profile = dados[4].text,\n",
    "        state = dados[5].text\n",
    "    )\n",
    "\n",
    "    registros.append(registro)"
   ]
  },
  {
   "cell_type": "code",
   "execution_count": null,
   "metadata": {},
   "outputs": [
    {
     "data": {
      "text/plain": [
       "<selenium.webdriver.remote.webelement.WebElement (session=\"9b53e77c44b4c2c5e122937187260203\", element=\"f.B05749FBDB41D48370B16B2AD3E591E1.d.79D04CAEE34E4C6ABB1996ED4558926C.e.45\")>"
      ]
     },
     "execution_count": 10,
     "metadata": {},
     "output_type": "execute_result"
    }
   ],
   "source": [
    "prox = driver.find_element(By.XPATH, '//main//button[contains(text(), \"Próxima\")]')"
   ]
  },
  {
   "cell_type": "code",
   "execution_count": 11,
   "metadata": {},
   "outputs": [],
   "source": [
    "prox.click()"
   ]
  },
  {
   "cell_type": "markdown",
   "metadata": {},
   "source": [
    "# Automatizando"
   ]
  },
  {
   "cell_type": "code",
   "execution_count": 15,
   "metadata": {},
   "outputs": [],
   "source": [
    "def rasparDadosTable():\n",
    "    linhas = table.find_elements(By.CSS_SELECTOR, '#tabela-usuarios tbody tr')\n",
    "    registros = []\n",
    "\n",
    "    for linha in linhas:\n",
    "        dados = linha.get_property('children')\n",
    "\n",
    "        registro = User(\n",
    "            avatar = dados[0].find_element(By.TAG_NAME, 'img').get_attribute('src'),\n",
    "            name = dados[1].text,\n",
    "            job = dados[2].text,\n",
    "            email = dados[3].text,\n",
    "            profile = dados[4].text,\n",
    "            state = dados[5].text\n",
    "        )\n",
    "\n",
    "        registros.append(registro)\n",
    "\n",
    "    return registros"
   ]
  },
  {
   "cell_type": "code",
   "execution_count": 18,
   "metadata": {},
   "outputs": [],
   "source": [
    "dadosTable = []\n",
    "\n",
    "while True:\n",
    "    dados = rasparDadosTable()\n",
    "    dadosTable.extend(dados)\n",
    "\n",
    "    try:\n",
    "        prox = driver.find_element(By.XPATH, '//main//button[contains(text(), \"Próxima\")]')\n",
    "        prox.click()\n",
    "    except:\n",
    "        break"
   ]
  },
  {
   "cell_type": "code",
   "execution_count": null,
   "metadata": {},
   "outputs": [],
   "source": []
  },
  {
   "cell_type": "code",
   "execution_count": null,
   "metadata": {},
   "outputs": [],
   "source": []
  },
  {
   "cell_type": "code",
   "execution_count": null,
   "metadata": {},
   "outputs": [],
   "source": []
  },
  {
   "cell_type": "code",
   "execution_count": null,
   "metadata": {},
   "outputs": [],
   "source": []
  },
  {
   "cell_type": "code",
   "execution_count": null,
   "metadata": {},
   "outputs": [],
   "source": []
  }
 ],
 "metadata": {
  "kernelspec": {
   "display_name": "venv",
   "language": "python",
   "name": "python3"
  },
  "language_info": {
   "codemirror_mode": {
    "name": "ipython",
    "version": 3
   },
   "file_extension": ".py",
   "mimetype": "text/x-python",
   "name": "python",
   "nbconvert_exporter": "python",
   "pygments_lexer": "ipython3",
   "version": "3.13.1"
  }
 },
 "nbformat": 4,
 "nbformat_minor": 2
}
