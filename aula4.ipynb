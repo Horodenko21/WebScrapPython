{
 "cells": [
  {
   "cell_type": "code",
   "execution_count": 23,
   "metadata": {},
   "outputs": [],
   "source": [
    "from selenium import webdriver # Importa driver para navegadores pelo selenium\n",
    "from selenium.webdriver.common.by import By # Importando classe By que server para selecionar os elementos\n",
    "driver = webdriver.Chrome() # Declara que driver é do chrome"
   ]
  },
  {
   "cell_type": "code",
   "execution_count": 24,
   "metadata": {},
   "outputs": [],
   "source": [
    "driver.get('http://localhost:8000/#/exemplo/1') # Declaro pagina que estou acessando"
   ]
  },
  {
   "cell_type": "markdown",
   "metadata": {},
   "source": [
    "Opcoes disponiveis para selecionar elementos diretamente com o Selenium :\n",
    "\n",
    "- ID = \"id\"\n",
    "- NAME = \"name\"\n",
    "- XPATH = \"xpath\"\n",
    "- LINK_TEXT = \"link text\"\n",
    "- PARTIAL_LINK_TEXT = \"partial link text\"\n",
    "- TAG_NAME = \"tag name\"\n",
    "- CLASS_NAME = \"class name\"\n",
    "- CSS_SELECTOR = \"css selector\""
   ]
  },
  {
   "cell_type": "code",
   "execution_count": null,
   "metadata": {},
   "outputs": [
    {
     "data": {
      "text/plain": [
       "[<selenium.webdriver.remote.webelement.WebElement (session=\"297f493e5e0c0e1da1003d54fff735bf\", element=\"f.6FA184D37709600D7374FEA17156C504.d.A7053739FEF531861BCABA76A5162202.e.9\")>,\n",
       " <selenium.webdriver.remote.webelement.WebElement (session=\"297f493e5e0c0e1da1003d54fff735bf\", element=\"f.6FA184D37709600D7374FEA17156C504.d.A7053739FEF531861BCABA76A5162202.e.11\")>,\n",
       " <selenium.webdriver.remote.webelement.WebElement (session=\"297f493e5e0c0e1da1003d54fff735bf\", element=\"f.6FA184D37709600D7374FEA17156C504.d.A7053739FEF531861BCABA76A5162202.e.13\")>,\n",
       " <selenium.webdriver.remote.webelement.WebElement (session=\"297f493e5e0c0e1da1003d54fff735bf\", element=\"f.6FA184D37709600D7374FEA17156C504.d.A7053739FEF531861BCABA76A5162202.e.15\")>]"
      ]
     },
     "execution_count": 25,
     "metadata": {},
     "output_type": "execute_result"
    }
   ],
   "source": [
    "campos = driver.find_elements(By.TAG_NAME, 'input')\n",
    "\n",
    "for campo in campos:\n",
    "    valor = campo.get_property('value')\n",
    "    print(valor)"
   ]
  },
  {
   "cell_type": "code",
   "execution_count": null,
   "metadata": {},
   "outputs": [
    {
     "name": "stdout",
     "output_type": "stream",
     "text": [
      "Abrir menu\n",
      "CSS - ID e Classes\n",
      "CSS - Combinadores\n",
      "CSS - Filho imediato\n",
      "CSS - Irmãos\n",
      "Exemplo 1\n",
      "Exemplo 2\n",
      "Exemplo 3\n",
      "Exemplo 4\n",
      "Exemplo 5\n",
      "Exemplo 6\n",
      "Exemplo 7\n",
      "Exemplo 8\n",
      "Exemplo 9\n",
      "Exemplo 10\n",
      "Exemplo 11\n",
      "Desafio 1\n",
      "Desafio 2\n",
      "Desafio 3\n",
      "Desafio 4\n",
      "Instagram\n",
      "Facebook\n",
      "Github\n",
      "YouTube\n",
      "Telegram\n"
     ]
    }
   ],
   "source": [
    "redes = driver.find_elements(By.TAG_NAME, 'span') # Busquei por SPAN\n",
    "\n",
    "for rede in redes:\n",
    "    valor = rede.text\n",
    "    print(valor)"
   ]
  },
  {
   "cell_type": "markdown",
   "metadata": {},
   "source": [
    "Concatenar buscas para restringir a area de busca"
   ]
  },
  {
   "cell_type": "code",
   "execution_count": 31,
   "metadata": {},
   "outputs": [
    {
     "name": "stdout",
     "output_type": "stream",
     "text": [
      "Instagram\n",
      "Facebook\n",
      "Github\n",
      "YouTube\n",
      "Telegram\n"
     ]
    }
   ],
   "source": [
    "redesSociais = driver.find_element(By.ID, 'social').find_elements(By.TAG_NAME, 'span') # Busquei pela DIV e dentro da div pelos SPAN\n",
    "\n",
    "for rs in redesSociais:\n",
    "    valor = rs.get_property('innerText')\n",
    "    print(valor)"
   ]
  },
  {
   "cell_type": "code",
   "execution_count": null,
   "metadata": {},
   "outputs": [],
   "source": []
  },
  {
   "cell_type": "code",
   "execution_count": null,
   "metadata": {},
   "outputs": [],
   "source": []
  }
 ],
 "metadata": {
  "kernelspec": {
   "display_name": "venv",
   "language": "python",
   "name": "python3"
  },
  "language_info": {
   "codemirror_mode": {
    "name": "ipython",
    "version": 3
   },
   "file_extension": ".py",
   "mimetype": "text/x-python",
   "name": "python",
   "nbconvert_exporter": "python",
   "pygments_lexer": "ipython3",
   "version": "3.13.1"
  }
 },
 "nbformat": 4,
 "nbformat_minor": 2
}
