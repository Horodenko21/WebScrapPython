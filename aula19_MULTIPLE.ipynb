{
 "cells": [
  {
   "cell_type": "code",
   "execution_count": 1,
   "metadata": {},
   "outputs": [],
   "source": [
    "from selenium import webdriver # Importa driver para navegadores pelo selenium\n",
    "from selenium.webdriver.common.by import By # Importando classe By que server para selecionar os elementos\n",
    "from selenium.webdriver.common.keys import Keys # Importo todas as teclas do teclado pelo pacote do Selenium\n",
    "from selenium.webdriver.support.ui import Select # Import necessario para selecao de elementos em dropdown/selector\n",
    "from selenium.webdriver.support.wait import WebDriverWait # Import da classe WAIT, serve para dizer o quanto se deve esperar pro navegador\n",
    "from selenium.webdriver.support import expected_conditions as EC # Import de expected_conditions, e da nome reduzido (alias) EC\n",
    "from dataclasses import dataclass # Import dataclass, como se fosse um objeto\n",
    "import urllib.request # Import request para fazer uma requisicao para um determinado link e pegar todas as informacoes de determinado link\n",
    "import os # Permite trabalhar com o Sistema Operacional\n",
    "\n",
    "driver = webdriver.Chrome() # Declara que driver é do chrome\n",
    "driver.implicitly_wait(time_to_wait=10)"
   ]
  },
  {
   "cell_type": "code",
   "execution_count": 3,
   "metadata": {},
   "outputs": [],
   "source": [
    "driver.get('http://localhost:8000/#/exemplo/1') # Declaro pagina que estou acessando"
   ]
  },
  {
   "cell_type": "code",
   "execution_count": 22,
   "metadata": {},
   "outputs": [
    {
     "data": {
      "text/plain": [
       "['EBCC03447154B4018F28AF2D3CE8F14B',\n",
       " '4E664563C8DC365690F4232AF21961FB',\n",
       " '7B652D153CB9749A66F0BA2C128FFE62',\n",
       " '1DF8D379823EBD631BBB0718E98F2CEE',\n",
       " 'C734587AEDE2F247A616E5D023025BE9',\n",
       " 'EACA310BFEFF5489A6144127021B9275']"
      ]
     },
     "execution_count": 22,
     "metadata": {},
     "output_type": "execute_result"
    }
   ],
   "source": [
    "driver.window_handles # Pego os ID's das abas/janelas do meu Driver"
   ]
  },
  {
   "cell_type": "code",
   "execution_count": null,
   "metadata": {},
   "outputs": [],
   "source": [
    "windows = {\n",
    "    'Exemplo1': 'EBCC03447154B4018F28AF2D3CE8F14B',\n",
    "    'Exemplo2': '7B652D153CB9749A66F0BA2C128FFE62',\n",
    "    'Exemplo3': '1DF8D379823EBD631BBB0718E98F2CEE',\n",
    "    'Exemplo4': '4E664563C8DC365690F4232AF21961FB',\n",
    "    'Exemplo1_2': 'C734587AEDE2F247A616E5D023025BE9',\n",
    "    'Janela2': 'EACA310BFEFF5489A6144127021B9275'\n",
    "}"
   ]
  },
  {
   "cell_type": "code",
   "execution_count": null,
   "metadata": {},
   "outputs": [],
   "source": [
    "driver.switch_to.new_window() # Declaro que quero trocar para uma nova aba"
   ]
  },
  {
   "cell_type": "code",
   "execution_count": 11,
   "metadata": {},
   "outputs": [],
   "source": [
    "driver.switch_to.window(window_name='1DF8D379823EBD631BBB0718E98F2CEE') # Declaro que quero trocar para uma aba especifica pelo seu ID"
   ]
  },
  {
   "cell_type": "code",
   "execution_count": 13,
   "metadata": {},
   "outputs": [],
   "source": [
    "driver.switch_to.window(window_name=windows['Exemplo2']) # Declaro que quero trocar para uma aba especifica pela lista que eu criei"
   ]
  },
  {
   "cell_type": "code",
   "execution_count": 15,
   "metadata": {},
   "outputs": [],
   "source": [
    "driver.switch_to.window(window_name=windows['Exemplo1'])"
   ]
  },
  {
   "cell_type": "code",
   "execution_count": 16,
   "metadata": {},
   "outputs": [
    {
     "data": {
      "text/plain": [
       "<selenium.webdriver.remote.webelement.WebElement (session=\"5f0b28d13e806bef389eccbd9673afae\", element=\"f.EBCC03447154B4018F28AF2D3CE8F14B.d.D754D7C7285ED34432FE351214DB4A9D.e.19\")>"
      ]
     },
     "execution_count": 16,
     "metadata": {},
     "output_type": "execute_result"
    }
   ],
   "source": [
    "driver.find_element(By.ID, 'social')"
   ]
  },
  {
   "cell_type": "code",
   "execution_count": null,
   "metadata": {},
   "outputs": [],
   "source": [
    "driver.switch_to.new_window('tab') # Declaro que quero criar uma nova aba"
   ]
  },
  {
   "cell_type": "code",
   "execution_count": 18,
   "metadata": {},
   "outputs": [],
   "source": [
    "driver.get('http://localhost:8000/#/exemplo/1')"
   ]
  },
  {
   "cell_type": "code",
   "execution_count": 20,
   "metadata": {},
   "outputs": [],
   "source": [
    "driver.switch_to.new_window('window') # Declaro que quero criar uma nova janela"
   ]
  },
  {
   "cell_type": "code",
   "execution_count": 23,
   "metadata": {},
   "outputs": [],
   "source": [
    "driver.get('http://localhost:8000/#/exemplo/1')"
   ]
  },
  {
   "cell_type": "code",
   "execution_count": 25,
   "metadata": {},
   "outputs": [],
   "source": [
    "driver.switch_to.window(window_name=driver.window_handles[-1]) # Declaro que quero acessar a ultima pagina criada"
   ]
  },
  {
   "cell_type": "code",
   "execution_count": 35,
   "metadata": {},
   "outputs": [],
   "source": [
    "driver.close() # Declaro que quero fechar esta aba MAS EU DEVO MUDAR O FOCO DO DRIVER"
   ]
  },
  {
   "cell_type": "code",
   "execution_count": 36,
   "metadata": {},
   "outputs": [],
   "source": [
    "driver.switch_to.window(window_name=driver.window_handles[-1]) # Para colocar o DRIVER em foco novamente "
   ]
  },
  {
   "cell_type": "code",
   "execution_count": 37,
   "metadata": {},
   "outputs": [],
   "source": [
    "driver.switch_to.new_window('tab')"
   ]
  },
  {
   "cell_type": "code",
   "execution_count": 38,
   "metadata": {},
   "outputs": [],
   "source": [
    "driver.get('http://localhost:8000/#/exemplo/5')"
   ]
  },
  {
   "cell_type": "code",
   "execution_count": 46,
   "metadata": {},
   "outputs": [],
   "source": [
    "driver.find_element(By.CSS_SELECTOR, 'main button.btn-primary').click()"
   ]
  },
  {
   "cell_type": "code",
   "execution_count": 47,
   "metadata": {},
   "outputs": [],
   "source": [
    "alerta = driver.switch_to.alert"
   ]
  },
  {
   "cell_type": "code",
   "execution_count": 41,
   "metadata": {},
   "outputs": [
    {
     "data": {
      "text/plain": [
       "'Opa, você já conhece nosso canal no YouTube?'"
      ]
     },
     "execution_count": 41,
     "metadata": {},
     "output_type": "execute_result"
    }
   ],
   "source": [
    "alerta.text"
   ]
  },
  {
   "cell_type": "code",
   "execution_count": 42,
   "metadata": {},
   "outputs": [],
   "source": [
    "alerta.dismiss()"
   ]
  },
  {
   "cell_type": "code",
   "execution_count": 45,
   "metadata": {},
   "outputs": [],
   "source": [
    "alerta.accept()"
   ]
  },
  {
   "cell_type": "code",
   "execution_count": null,
   "metadata": {},
   "outputs": [
    {
     "ename": "ElementNotInteractableException",
     "evalue": "Message: element not interactable: User dialog does not have a text box input field.\n  (Session info: chrome=134.0.6998.178)\nStacktrace:\n\tGetHandleVerifier [0x00007FF7AC7F4C25+3179557]\n\t(No symbol) [0x00007FF7AC4588A0]\n\t(No symbol) [0x00007FF7AC2E91CA]\n\t(No symbol) [0x00007FF7AC310F22]\n\t(No symbol) [0x00007FF7AC367CDD]\n\t(No symbol) [0x00007FF7AC3108D5]\n\t(No symbol) [0x00007FF7AC367A03]\n\t(No symbol) [0x00007FF7AC3306D0]\n\t(No symbol) [0x00007FF7AC331983]\n\tGetHandleVerifier [0x00007FF7AC8567CD+3579853]\n\tGetHandleVerifier [0x00007FF7AC86D1D2+3672530]\n\tGetHandleVerifier [0x00007FF7AC862153+3627347]\n\tGetHandleVerifier [0x00007FF7AC5C092A+868650]\n\t(No symbol) [0x00007FF7AC462FFF]\n\t(No symbol) [0x00007FF7AC45F4A4]\n\t(No symbol) [0x00007FF7AC45F646]\n\t(No symbol) [0x00007FF7AC44EAA9]\n\tBaseThreadInitThunk [0x00007FFA7C34E8D7+23]\n\tRtlUserThreadStart [0x00007FFA7CAFBF6C+44]\n",
     "output_type": "error",
     "traceback": [
      "\u001b[31m---------------------------------------------------------------------------\u001b[39m",
      "\u001b[31mElementNotInteractableException\u001b[39m           Traceback (most recent call last)",
      "\u001b[36mCell\u001b[39m\u001b[36m \u001b[39m\u001b[32mIn[49]\u001b[39m\u001b[32m, line 1\u001b[39m\n\u001b[32m----> \u001b[39m\u001b[32m1\u001b[39m \u001b[43malerta\u001b[49m\u001b[43m.\u001b[49m\u001b[43msend_keys\u001b[49m\u001b[43m(\u001b[49m\u001b[43mKeys\u001b[49m\u001b[43m.\u001b[49m\u001b[43mESCAPE\u001b[49m\u001b[43m)\u001b[49m\n",
      "\u001b[36mFile \u001b[39m\u001b[32mc:\\Users\\leoho\\OneDrive\\Área de Trabalho\\Dev\\AmbientesVirtual\\PythonWebScraping\\venv\\Lib\\site-packages\\selenium\\webdriver\\common\\alert.py:80\u001b[39m, in \u001b[36mAlert.send_keys\u001b[39m\u001b[34m(self, keysToSend)\u001b[39m\n\u001b[32m     74\u001b[39m \u001b[38;5;28;01mdef\u001b[39;00m\u001b[38;5;250m \u001b[39m\u001b[34msend_keys\u001b[39m(\u001b[38;5;28mself\u001b[39m, keysToSend: \u001b[38;5;28mstr\u001b[39m) -> \u001b[38;5;28;01mNone\u001b[39;00m:\n\u001b[32m     75\u001b[39m \u001b[38;5;250m    \u001b[39m\u001b[33;03m\"\"\"Send Keys to the Alert.\u001b[39;00m\n\u001b[32m     76\u001b[39m \n\u001b[32m     77\u001b[39m \u001b[33;03m    :Args:\u001b[39;00m\n\u001b[32m     78\u001b[39m \u001b[33;03m     - keysToSend: The text to be sent to Alert.\u001b[39;00m\n\u001b[32m     79\u001b[39m \u001b[33;03m    \"\"\"\u001b[39;00m\n\u001b[32m---> \u001b[39m\u001b[32m80\u001b[39m     \u001b[38;5;28;43mself\u001b[39;49m\u001b[43m.\u001b[49m\u001b[43mdriver\u001b[49m\u001b[43m.\u001b[49m\u001b[43mexecute\u001b[49m\u001b[43m(\u001b[49m\u001b[43mCommand\u001b[49m\u001b[43m.\u001b[49m\u001b[43mW3C_SET_ALERT_VALUE\u001b[49m\u001b[43m,\u001b[49m\u001b[43m \u001b[49m\u001b[43m{\u001b[49m\u001b[33;43m\"\u001b[39;49m\u001b[33;43mvalue\u001b[39;49m\u001b[33;43m\"\u001b[39;49m\u001b[43m:\u001b[49m\u001b[43m \u001b[49m\u001b[43mkeys_to_typing\u001b[49m\u001b[43m(\u001b[49m\u001b[43mkeysToSend\u001b[49m\u001b[43m)\u001b[49m\u001b[43m,\u001b[49m\u001b[43m \u001b[49m\u001b[33;43m\"\u001b[39;49m\u001b[33;43mtext\u001b[39;49m\u001b[33;43m\"\u001b[39;49m\u001b[43m:\u001b[49m\u001b[43m \u001b[49m\u001b[43mkeysToSend\u001b[49m\u001b[43m}\u001b[49m\u001b[43m)\u001b[49m\n",
      "\u001b[36mFile \u001b[39m\u001b[32mc:\\Users\\leoho\\OneDrive\\Área de Trabalho\\Dev\\AmbientesVirtual\\PythonWebScraping\\venv\\Lib\\site-packages\\selenium\\webdriver\\remote\\webdriver.py:429\u001b[39m, in \u001b[36mWebDriver.execute\u001b[39m\u001b[34m(self, driver_command, params)\u001b[39m\n\u001b[32m    427\u001b[39m response = \u001b[38;5;28mself\u001b[39m.command_executor.execute(driver_command, params)\n\u001b[32m    428\u001b[39m \u001b[38;5;28;01mif\u001b[39;00m response:\n\u001b[32m--> \u001b[39m\u001b[32m429\u001b[39m     \u001b[38;5;28;43mself\u001b[39;49m\u001b[43m.\u001b[49m\u001b[43merror_handler\u001b[49m\u001b[43m.\u001b[49m\u001b[43mcheck_response\u001b[49m\u001b[43m(\u001b[49m\u001b[43mresponse\u001b[49m\u001b[43m)\u001b[49m\n\u001b[32m    430\u001b[39m     response[\u001b[33m\"\u001b[39m\u001b[33mvalue\u001b[39m\u001b[33m\"\u001b[39m] = \u001b[38;5;28mself\u001b[39m._unwrap_value(response.get(\u001b[33m\"\u001b[39m\u001b[33mvalue\u001b[39m\u001b[33m\"\u001b[39m, \u001b[38;5;28;01mNone\u001b[39;00m))\n\u001b[32m    431\u001b[39m     \u001b[38;5;28;01mreturn\u001b[39;00m response\n",
      "\u001b[36mFile \u001b[39m\u001b[32mc:\\Users\\leoho\\OneDrive\\Área de Trabalho\\Dev\\AmbientesVirtual\\PythonWebScraping\\venv\\Lib\\site-packages\\selenium\\webdriver\\remote\\errorhandler.py:232\u001b[39m, in \u001b[36mErrorHandler.check_response\u001b[39m\u001b[34m(self, response)\u001b[39m\n\u001b[32m    230\u001b[39m         alert_text = value[\u001b[33m\"\u001b[39m\u001b[33malert\u001b[39m\u001b[33m\"\u001b[39m].get(\u001b[33m\"\u001b[39m\u001b[33mtext\u001b[39m\u001b[33m\"\u001b[39m)\n\u001b[32m    231\u001b[39m     \u001b[38;5;28;01mraise\u001b[39;00m exception_class(message, screen, stacktrace, alert_text)  \u001b[38;5;66;03m# type: ignore[call-arg]  # mypy is not smart enough here\u001b[39;00m\n\u001b[32m--> \u001b[39m\u001b[32m232\u001b[39m \u001b[38;5;28;01mraise\u001b[39;00m exception_class(message, screen, stacktrace)\n",
      "\u001b[31mElementNotInteractableException\u001b[39m: Message: element not interactable: User dialog does not have a text box input field.\n  (Session info: chrome=134.0.6998.178)\nStacktrace:\n\tGetHandleVerifier [0x00007FF7AC7F4C25+3179557]\n\t(No symbol) [0x00007FF7AC4588A0]\n\t(No symbol) [0x00007FF7AC2E91CA]\n\t(No symbol) [0x00007FF7AC310F22]\n\t(No symbol) [0x00007FF7AC367CDD]\n\t(No symbol) [0x00007FF7AC3108D5]\n\t(No symbol) [0x00007FF7AC367A03]\n\t(No symbol) [0x00007FF7AC3306D0]\n\t(No symbol) [0x00007FF7AC331983]\n\tGetHandleVerifier [0x00007FF7AC8567CD+3579853]\n\tGetHandleVerifier [0x00007FF7AC86D1D2+3672530]\n\tGetHandleVerifier [0x00007FF7AC862153+3627347]\n\tGetHandleVerifier [0x00007FF7AC5C092A+868650]\n\t(No symbol) [0x00007FF7AC462FFF]\n\t(No symbol) [0x00007FF7AC45F4A4]\n\t(No symbol) [0x00007FF7AC45F646]\n\t(No symbol) [0x00007FF7AC44EAA9]\n\tBaseThreadInitThunk [0x00007FFA7C34E8D7+23]\n\tRtlUserThreadStart [0x00007FFA7CAFBF6C+44]\n"
     ]
    }
   ],
   "source": [
    "alerta.send_keys('TESTE')"
   ]
  }
 ],
 "metadata": {
  "kernelspec": {
   "display_name": "venv",
   "language": "python",
   "name": "python3"
  },
  "language_info": {
   "codemirror_mode": {
    "name": "ipython",
    "version": 3
   },
   "file_extension": ".py",
   "mimetype": "text/x-python",
   "name": "python",
   "nbconvert_exporter": "python",
   "pygments_lexer": "ipython3",
   "version": "3.13.1"
  }
 },
 "nbformat": 4,
 "nbformat_minor": 2
}
