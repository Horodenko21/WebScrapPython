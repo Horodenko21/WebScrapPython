{
 "cells": [
  {
   "cell_type": "code",
   "execution_count": 5,
   "metadata": {},
   "outputs": [],
   "source": [
    "from selenium import webdriver # Importa driver para navegadores pelo selenium\n",
    "from selenium.webdriver.common.by import By # Importando classe By que server para selecionar os elementos\n",
    "driver = webdriver.Chrome() # Declara que driver é do chrome"
   ]
  },
  {
   "cell_type": "code",
   "execution_count": 6,
   "metadata": {},
   "outputs": [],
   "source": [
    "driver.get('http://localhost:8000/#/exemplo/1') # Declaro pagina que estou acessando"
   ]
  },
  {
   "cell_type": "markdown",
   "metadata": {},
   "source": [
    "# CSS_SELECTOR\n",
    "\n",
    "- \"#\" : Selecao de ID\n",
    "- \".\" : Selecao de Classe\n",
    "- \">\" : Selecao de filho direto\n",
    "- \"~\" : Selecao de irmaos\n",
    "- \"+\" : Selecao de irmao imediato\n",
    "- \"*\" : Selecao de todos os elementos\n",
    "- \"[property=\"value\"]\" : Selecao de propriedades\n",
    "    - \"^=\" : Corresponde a um prefixo\n",
    "    - \"$=\" : Corresponde a um sulfixo\n",
    "    - \"*=\" : Corresponde a substring\n",
    "    - \"|=\" : Corresponde a um texto seguido por hifen\n",
    "    - \"~=\" : Corresponde a uma palavra"
   ]
  },
  {
   "cell_type": "markdown",
   "metadata": {},
   "source": [
    "# ID"
   ]
  },
  {
   "cell_type": "code",
   "execution_count": null,
   "metadata": {},
   "outputs": [
    {
     "data": {
      "text/plain": [
       "[<selenium.webdriver.remote.webelement.WebElement (session=\"db7f5a10a03c4c2aa3189a520de4d33a\", element=\"f.624F13C04B39E6CF92CDB283525CC85B.d.2FE00D232FA17387F3052C9ED7657220.e.27\")>]"
      ]
     },
     "execution_count": 10,
     "metadata": {},
     "output_type": "execute_result"
    }
   ],
   "source": [
    "driver.find_elements(By.CSS_SELECTOR, 'div#social') # Declaro que quero pegar toda DIV com o ID (#) 'social'"
   ]
  },
  {
   "cell_type": "markdown",
   "metadata": {},
   "source": [
    "# CLASS"
   ]
  },
  {
   "cell_type": "code",
   "execution_count": null,
   "metadata": {},
   "outputs": [
    {
     "data": {
      "text/plain": [
       "[<selenium.webdriver.remote.webelement.WebElement (session=\"db7f5a10a03c4c2aa3189a520de4d33a\", element=\"f.624F13C04B39E6CF92CDB283525CC85B.d.2FE00D232FA17387F3052C9ED7657220.e.14\")>,\n",
       " <selenium.webdriver.remote.webelement.WebElement (session=\"db7f5a10a03c4c2aa3189a520de4d33a\", element=\"f.624F13C04B39E6CF92CDB283525CC85B.d.2FE00D232FA17387F3052C9ED7657220.e.15\")>]"
      ]
     },
     "execution_count": 13,
     "metadata": {},
     "output_type": "execute_result"
    }
   ],
   "source": [
    "driver.find_elements(By.CSS_SELECTOR, 'input.styled-input.optional-info') # Declaro que quero pegar todo elemento INPUT com a CLASSE (.) 'styled-input' que tambem tenha outra CLASSE (.) 'optional-info'"
   ]
  },
  {
   "cell_type": "markdown",
   "metadata": {},
   "source": [
    "# PARENTESCO"
   ]
  },
  {
   "cell_type": "code",
   "execution_count": null,
   "metadata": {},
   "outputs": [
    {
     "data": {
      "text/plain": [
       "[<selenium.webdriver.remote.webelement.WebElement (session=\"db7f5a10a03c4c2aa3189a520de4d33a\", element=\"f.624F13C04B39E6CF92CDB283525CC85B.d.2FE00D232FA17387F3052C9ED7657220.e.14\")>,\n",
       " <selenium.webdriver.remote.webelement.WebElement (session=\"db7f5a10a03c4c2aa3189a520de4d33a\", element=\"f.624F13C04B39E6CF92CDB283525CC85B.d.2FE00D232FA17387F3052C9ED7657220.e.15\")>]"
      ]
     },
     "execution_count": 17,
     "metadata": {},
     "output_type": "execute_result"
    }
   ],
   "source": [
    "driver.find_elements(By.CSS_SELECTOR, 'div.main-container input.optional-info') # Declaro que quero pegar todos INPUT.OPTIONAL-INFO que seja descendente de uma DIV.MAIN-CONTAINER"
   ]
  },
  {
   "cell_type": "code",
   "execution_count": null,
   "metadata": {},
   "outputs": [
    {
     "data": {
      "text/plain": [
       "[<selenium.webdriver.remote.webelement.WebElement (session=\"db7f5a10a03c4c2aa3189a520de4d33a\", element=\"f.624F13C04B39E6CF92CDB283525CC85B.d.2FE00D232FA17387F3052C9ED7657220.e.32\")>,\n",
       " <selenium.webdriver.remote.webelement.WebElement (session=\"db7f5a10a03c4c2aa3189a520de4d33a\", element=\"f.624F13C04B39E6CF92CDB283525CC85B.d.2FE00D232FA17387F3052C9ED7657220.e.22\")>,\n",
       " <selenium.webdriver.remote.webelement.WebElement (session=\"db7f5a10a03c4c2aa3189a520de4d33a\", element=\"f.624F13C04B39E6CF92CDB283525CC85B.d.2FE00D232FA17387F3052C9ED7657220.e.23\")>,\n",
       " <selenium.webdriver.remote.webelement.WebElement (session=\"db7f5a10a03c4c2aa3189a520de4d33a\", element=\"f.624F13C04B39E6CF92CDB283525CC85B.d.2FE00D232FA17387F3052C9ED7657220.e.24\")>,\n",
       " <selenium.webdriver.remote.webelement.WebElement (session=\"db7f5a10a03c4c2aa3189a520de4d33a\", element=\"f.624F13C04B39E6CF92CDB283525CC85B.d.2FE00D232FA17387F3052C9ED7657220.e.25\")>]"
      ]
     },
     "execution_count": 18,
     "metadata": {},
     "output_type": "execute_result"
    }
   ],
   "source": [
    "driver.find_elements(By.CSS_SELECTOR, 'div#social > a') # Declaro que quero todo A de uma DIV com ID 'social'"
   ]
  },
  {
   "cell_type": "code",
   "execution_count": null,
   "metadata": {},
   "outputs": [
    {
     "name": "stdout",
     "output_type": "stream",
     "text": [
      "main -> relative mx-auto max-w-sm w-full md:w-[90%] lg:max-w-[70vw]\n",
      "div -> absolute inset-0 bg-gradient-to-r from-cyan-400 to-sky-500 bg-center shadow-xl rounded-lg -rotate-6 lg:-rotate-4\n",
      "div -> relative bg-white dark:bg-gray-800 px-6 pt-10 pb-8 shadow-xl ring-1 ring-gray-900/5 rounded-lg sm:px-10\n",
      "div -> relative mx-auto\n",
      "div -> title\n",
      "label -> block text-sm font-medium leading-6 text-gray-700 dark:text-white text-left \n",
      "input -> block w-full rounded-md border-0 py-1.5 px-4 h-10 text-gray-700 ring-1 ring-inset ring-gray-300 bg-white placeholder:text-gray-400 focus:ring-2 focus:ring-inset focus:ring-cyan-600 sm:text-sm sm:leading-6 styled-input\n",
      "label -> block text-sm font-medium leading-6 text-gray-700 dark:text-white text-left \n",
      "input -> block w-full rounded-md border-0 py-1.5 px-4 h-10 text-gray-700 ring-1 ring-inset ring-gray-300 bg-white placeholder:text-gray-400 focus:ring-2 focus:ring-inset focus:ring-cyan-600 sm:text-sm sm:leading-6 styled-input\n",
      "label -> block text-sm font-medium leading-6 text-gray-700 dark:text-white text-left \n",
      "input -> block w-full rounded-md border-0 py-1.5 px-4 h-10 text-gray-700 ring-1 ring-inset ring-gray-300 bg-white placeholder:text-gray-400 focus:ring-2 focus:ring-inset focus:ring-cyan-600 sm:text-sm sm:leading-6 styled-input optional-info\n",
      "label -> block text-sm font-medium leading-6 text-gray-700 dark:text-white text-left \n",
      "input -> block w-full rounded-md border-0 py-1.5 px-4 h-10 text-gray-700 ring-1 ring-inset ring-gray-300 bg-white placeholder:text-gray-400 focus:ring-2 focus:ring-inset focus:ring-cyan-600 sm:text-sm sm:leading-6 styled-input optional-info\n",
      "label -> block text-sm font-medium leading-6 text-gray-700 dark:text-white text-left \n",
      "div -> grid grid-cols-2 lg:grid-cols-3 grid-flow-row gap-2 text-sm\n",
      "a -> text-slate-700 dark:text-slate-100 hover:text-cyan-500 flex gap-2 items-center\n",
      "i -> text-[20px] fi fi-brands-instagram\n",
      "span -> \n",
      "a -> text-slate-700 dark:text-slate-100 hover:text-cyan-500 flex gap-2 items-center\n",
      "i -> text-[20px] fi fi-brands-facebook\n",
      "span -> \n",
      "a -> text-slate-700 dark:text-slate-100 hover:text-cyan-500 flex gap-2 items-center\n",
      "i -> text-[20px] fi fi-brands-github\n",
      "span -> \n",
      "a -> text-slate-700 dark:text-slate-100 hover:text-cyan-500 flex gap-2 items-center\n",
      "i -> text-[20px] fi fi-brands-youtube\n",
      "span -> \n",
      "a -> text-slate-700 dark:text-slate-100 hover:text-cyan-500 flex gap-2 items-center\n",
      "i -> text-[20px] fi fi-brands-telegram\n",
      "span -> \n"
     ]
    }
   ],
   "source": [
    "mainContainer = driver.find_elements(By.CSS_SELECTOR, 'div.main-container *') # Declaro que quero pegar TODOS (*) os elementos da DIV com a CLASSE 'main-container'\n",
    "\n",
    "for mc in mainContainer:\n",
    "    print(mc.tag_name, '->', mc.get_attribute('class')) # Mostro todas as CLASSES de todos os descendentes da DIV com a CLASSE main.container"
   ]
  },
  {
   "cell_type": "code",
   "execution_count": 23,
   "metadata": {},
   "outputs": [
    {
     "name": "stdout",
     "output_type": "stream",
     "text": [
      "a -> text-slate-700 dark:text-slate-100 hover:text-cyan-500 flex gap-2 items-center\n",
      "a -> text-slate-700 dark:text-slate-100 hover:text-cyan-500 flex gap-2 items-center\n",
      "a -> text-slate-700 dark:text-slate-100 hover:text-cyan-500 flex gap-2 items-center\n",
      "a -> text-slate-700 dark:text-slate-100 hover:text-cyan-500 flex gap-2 items-center\n",
      "a -> text-slate-700 dark:text-slate-100 hover:text-cyan-500 flex gap-2 items-center\n"
     ]
    }
   ],
   "source": [
    "mainContainer = driver.find_elements(By.CSS_SELECTOR, 'div#social > *') # Declaro que quero pegar TODOS (*) os FILHOS DIRETOS (>) de uma DIV com a CLASSE 'social'\n",
    "\n",
    "for mc in mainContainer:\n",
    "    print(mc.tag_name, '->', mc.get_attribute('class'))"
   ]
  },
  {
   "cell_type": "markdown",
   "metadata": {},
   "source": [
    "# PROPRIEDADES E ATRIBUTOS"
   ]
  },
  {
   "cell_type": "code",
   "execution_count": 26,
   "metadata": {},
   "outputs": [
    {
     "data": {
      "text/plain": [
       "[<selenium.webdriver.remote.webelement.WebElement (session=\"db7f5a10a03c4c2aa3189a520de4d33a\", element=\"f.624F13C04B39E6CF92CDB283525CC85B.d.2FE00D232FA17387F3052C9ED7657220.e.12\")>]"
      ]
     },
     "execution_count": 26,
     "metadata": {},
     "output_type": "execute_result"
    }
   ],
   "source": [
    "driver.find_elements(By.CSS_SELECTOR, 'input[name=fullname]') # Declaro que quero pegar todo INPUT que tenha o ATRIBUTO ([]) 'name' com o valor de 'fullname'"
   ]
  },
  {
   "cell_type": "code",
   "execution_count": null,
   "metadata": {},
   "outputs": [
    {
     "data": {
      "text/plain": [
       "[<selenium.webdriver.remote.webelement.WebElement (session=\"db7f5a10a03c4c2aa3189a520de4d33a\", element=\"f.624F13C04B39E6CF92CDB283525CC85B.d.2FE00D232FA17387F3052C9ED7657220.e.32\")>,\n",
       " <selenium.webdriver.remote.webelement.WebElement (session=\"db7f5a10a03c4c2aa3189a520de4d33a\", element=\"f.624F13C04B39E6CF92CDB283525CC85B.d.2FE00D232FA17387F3052C9ED7657220.e.22\")>,\n",
       " <selenium.webdriver.remote.webelement.WebElement (session=\"db7f5a10a03c4c2aa3189a520de4d33a\", element=\"f.624F13C04B39E6CF92CDB283525CC85B.d.2FE00D232FA17387F3052C9ED7657220.e.23\")>,\n",
       " <selenium.webdriver.remote.webelement.WebElement (session=\"db7f5a10a03c4c2aa3189a520de4d33a\", element=\"f.624F13C04B39E6CF92CDB283525CC85B.d.2FE00D232FA17387F3052C9ED7657220.e.24\")>,\n",
       " <selenium.webdriver.remote.webelement.WebElement (session=\"db7f5a10a03c4c2aa3189a520de4d33a\", element=\"f.624F13C04B39E6CF92CDB283525CC85B.d.2FE00D232FA17387F3052C9ED7657220.e.25\")>]"
      ]
     },
     "execution_count": 30,
     "metadata": {},
     "output_type": "execute_result"
    }
   ],
   "source": [
    "driver.find_elements(By.CSS_SELECTOR, 'a[href=\"#\"]') # Declaro que quero pegar todo A que tenha o ATRIBUTO ([]) 'href' com valor de '#'"
   ]
  },
  {
   "cell_type": "code",
   "execution_count": 34,
   "metadata": {},
   "outputs": [
    {
     "data": {
      "text/plain": [
       "[<selenium.webdriver.remote.webelement.WebElement (session=\"db7f5a10a03c4c2aa3189a520de4d33a\", element=\"f.624F13C04B39E6CF92CDB283525CC85B.d.2FE00D232FA17387F3052C9ED7657220.e.14\")>,\n",
       " <selenium.webdriver.remote.webelement.WebElement (session=\"db7f5a10a03c4c2aa3189a520de4d33a\", element=\"f.624F13C04B39E6CF92CDB283525CC85B.d.2FE00D232FA17387F3052C9ED7657220.e.15\")>]"
      ]
     },
     "execution_count": 34,
     "metadata": {},
     "output_type": "execute_result"
    }
   ],
   "source": [
    "driver.find_elements(By.CSS_SELECTOR, 'input[disabled][data-optional=\"true\"]') # Declaro que quero todo INPUT que tenha o ATRIBUTO ([]) 'disabled' e que tenha tambem o ATRIBUTO ([]) 'data-optional=\"true\"'"
   ]
  },
  {
   "cell_type": "markdown",
   "metadata": {},
   "source": [
    "# SULFIXO"
   ]
  },
  {
   "cell_type": "code",
   "execution_count": null,
   "metadata": {},
   "outputs": [
    {
     "data": {
      "text/plain": [
       "[<selenium.webdriver.remote.webelement.WebElement (session=\"db7f5a10a03c4c2aa3189a520de4d33a\", element=\"f.624F13C04B39E6CF92CDB283525CC85B.d.2FE00D232FA17387F3052C9ED7657220.e.15\")>]"
      ]
     },
     "execution_count": 39,
     "metadata": {},
     "output_type": "execute_result"
    }
   ],
   "source": [
    "driver.find_elements(By.CSS_SELECTOR, 'input[value$=\"ino\"]') # Declaro que quero pegar todo INPUT que tenha o SULFIXO ($=) 'ino'"
   ]
  },
  {
   "cell_type": "code",
   "execution_count": 41,
   "metadata": {},
   "outputs": [
    {
     "name": "stdout",
     "output_type": "stream",
     "text": [
      "text-[20px] fi fi-brands-instagram\n",
      "text-[20px] fi fi-brands-telegram\n"
     ]
    }
   ],
   "source": [
    "gram = driver.find_elements(By.CSS_SELECTOR, '[class$=\"gram\"]') # Declaro que quero pegar tudo que tenha uma classe que termine com 'gram'\n",
    "\n",
    "for g in gram:\n",
    "    value = g.get_attribute('class')\n",
    "    print(value)"
   ]
  },
  {
   "cell_type": "markdown",
   "metadata": {},
   "source": [
    "# PREFIXO"
   ]
  },
  {
   "cell_type": "code",
   "execution_count": 43,
   "metadata": {},
   "outputs": [
    {
     "data": {
      "text/plain": [
       "[<selenium.webdriver.remote.webelement.WebElement (session=\"db7f5a10a03c4c2aa3189a520de4d33a\", element=\"f.624F13C04B39E6CF92CDB283525CC85B.d.2FE00D232FA17387F3052C9ED7657220.e.33\")>,\n",
       " <selenium.webdriver.remote.webelement.WebElement (session=\"db7f5a10a03c4c2aa3189a520de4d33a\", element=\"f.624F13C04B39E6CF92CDB283525CC85B.d.2FE00D232FA17387F3052C9ED7657220.e.27\")>]"
      ]
     },
     "execution_count": 43,
     "metadata": {},
     "output_type": "execute_result"
    }
   ],
   "source": [
    "driver.find_elements(By.CSS_SELECTOR, '[name^=\"user\"]') # Declaro que quero tudo que tenha um atributo 'name' que COMECE (^=) com 'user'"
   ]
  },
  {
   "cell_type": "code",
   "execution_count": 49,
   "metadata": {},
   "outputs": [
    {
     "name": "stdout",
     "output_type": "stream",
     "text": [
      "div -> text-center flex\n",
      "a -> text-slate-700 dark:text-slate-100 hover:text-cyan-500 flex gap-2 items-center\n",
      "i -> text-[20px] fi fi-brands-instagram\n",
      "a -> text-slate-700 dark:text-slate-100 hover:text-cyan-500 flex gap-2 items-center\n",
      "i -> text-[20px] fi fi-brands-facebook\n",
      "a -> text-slate-700 dark:text-slate-100 hover:text-cyan-500 flex gap-2 items-center\n",
      "i -> text-[20px] fi fi-brands-github\n",
      "a -> text-slate-700 dark:text-slate-100 hover:text-cyan-500 flex gap-2 items-center\n",
      "i -> text-[20px] fi fi-brands-youtube\n",
      "a -> text-slate-700 dark:text-slate-100 hover:text-cyan-500 flex gap-2 items-center\n",
      "i -> text-[20px] fi fi-brands-telegram\n"
     ]
    }
   ],
   "source": [
    "element = driver.find_elements(By.CSS_SELECTOR, '[class|=\"text\"]') # Declaro que quero tudo que na classe tenha um 'text' que venha SEGUIDO DE UM HIFEN (|=)\n",
    "\n",
    "for e in element:\n",
    "    print(e.tag_name, '->', e.get_attribute('class'))"
   ]
  },
  {
   "cell_type": "markdown",
   "metadata": {},
   "source": [
    "# SUBSTRING"
   ]
  },
  {
   "cell_type": "code",
   "execution_count": 51,
   "metadata": {},
   "outputs": [
    {
     "name": "stdout",
     "output_type": "stream",
     "text": [
      "Bruna Costa\n",
      "Senior Mercados Associado\n",
      "Masculino\n"
     ]
    }
   ],
   "source": [
    "containsE = driver.find_elements(By.CSS_SELECTOR, 'input[id*=\"e\"]') # Declaro que quero todo INPUT que tenha um ATRIBUTO 'id' que TENHA O CARACTER (*=) 'e'\n",
    "\n",
    "for e in containsE:\n",
    "    value = e.get_property('value')\n",
    "    print(value)"
   ]
  },
  {
   "cell_type": "code",
   "execution_count": null,
   "metadata": {},
   "outputs": [],
   "source": []
  },
  {
   "cell_type": "code",
   "execution_count": null,
   "metadata": {},
   "outputs": [],
   "source": []
  },
  {
   "cell_type": "code",
   "execution_count": null,
   "metadata": {},
   "outputs": [],
   "source": []
  },
  {
   "cell_type": "code",
   "execution_count": null,
   "metadata": {},
   "outputs": [],
   "source": []
  },
  {
   "cell_type": "code",
   "execution_count": null,
   "metadata": {},
   "outputs": [],
   "source": []
  },
  {
   "cell_type": "code",
   "execution_count": null,
   "metadata": {},
   "outputs": [],
   "source": []
  },
  {
   "cell_type": "code",
   "execution_count": null,
   "metadata": {},
   "outputs": [],
   "source": []
  }
 ],
 "metadata": {
  "kernelspec": {
   "display_name": "venv",
   "language": "python",
   "name": "python3"
  },
  "language_info": {
   "codemirror_mode": {
    "name": "ipython",
    "version": 3
   },
   "file_extension": ".py",
   "mimetype": "text/x-python",
   "name": "python",
   "nbconvert_exporter": "python",
   "pygments_lexer": "ipython3",
   "version": "3.13.1"
  }
 },
 "nbformat": 4,
 "nbformat_minor": 2
}
