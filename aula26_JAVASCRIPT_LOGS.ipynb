{
 "cells": [
  {
   "cell_type": "code",
   "execution_count": 24,
   "metadata": {},
   "outputs": [],
   "source": [
    "from selenium import webdriver # Importa driver para navegadores pelo selenium\n",
    "from selenium.webdriver.common.by import By # Importando classe By que server para selecionar os elementos\n",
    "from selenium.webdriver.common.keys import Keys # Importo todas as teclas do teclado pelo pacote do Selenium\n",
    "from selenium.webdriver.support.ui import Select # Import necessario para selecao de elementos em dropdown/selector\n",
    "from selenium.webdriver.support.wait import WebDriverWait # Import da classe WAIT, serve para dizer o quanto se deve esperar pro navegador\n",
    "from selenium.webdriver.support import expected_conditions as EC # Import de expected_conditions, e da nome reduzido (alias) EC\n",
    "from dataclasses import dataclass # Import dataclass, como se fosse um objeto\n",
    "import urllib.request # Import request para fazer uma requisicao para um determinado link e pegar todas as informacoes de determinado link\n",
    "import os # Permite trabalhar com o Sistema Operacional\n",
    "from selenium.webdriver.common.action_chains import ActionChains # Import da classe ActionChains\n",
    "from pandas.io.clipboard import clipboard_set, clipboard_get # Import para mexer com menu de contexto\n",
    "from io import StringIO # Import StringIO para PANDAS\n",
    "import pandas as pd # Import do PANDAS\n",
    "from selenium.webdriver.common import utils # Importa biblioteca com UTILIATARIAS para simplificar o codigo\n",
    "\n",
    "driver = webdriver.Chrome() # Declara que driver é do chrome\n",
    "driver.implicitly_wait(time_to_wait=10)"
   ]
  },
  {
   "cell_type": "code",
   "execution_count": 25,
   "metadata": {},
   "outputs": [],
   "source": [
    "driver.get('http://localhost:8000/#/exemplo/11') # Declaro pagina que estou acessando"
   ]
  },
  {
   "cell_type": "code",
   "execution_count": 26,
   "metadata": {},
   "outputs": [
    {
     "data": {
      "text/plain": [
       "['browser', 'driver']"
      ]
     },
     "execution_count": 26,
     "metadata": {},
     "output_type": "execute_result"
    }
   ],
   "source": [
    "driver.log_types"
   ]
  },
  {
   "cell_type": "code",
   "execution_count": 27,
   "metadata": {},
   "outputs": [
    {
     "data": {
      "text/plain": [
       "[{'level': 'WARNING',\n",
       "  'message': 'http://localhost:8000/assets/index-BYzAF07t.js 92:28755 \"Entre agora mesmo para o grupo de alunos t.me/programadoraventureiro\"',\n",
       "  'source': 'console-api',\n",
       "  'timestamp': 1744286176384},\n",
       " {'level': 'SEVERE',\n",
       "  'message': 'http://localhost:8000/assets/index-BYzAF07t.js 92:28840 \"Não saia da aula com dúvidas!\"',\n",
       "  'source': 'console-api',\n",
       "  'timestamp': 1744286176384},\n",
       " {'level': 'SEVERE',\n",
       "  'message': 'http://localhost:8000/assets/logo.png - Failed to load resource: the server responded with a status of 404 (File not found)',\n",
       "  'source': 'network',\n",
       "  'timestamp': 1744286176422}]"
      ]
     },
     "execution_count": 27,
     "metadata": {},
     "output_type": "execute_result"
    }
   ],
   "source": [
    "driver.get_log('browser') # Logs gerados pelo browser"
   ]
  },
  {
   "cell_type": "code",
   "execution_count": 28,
   "metadata": {},
   "outputs": [
    {
     "data": {
      "text/plain": [
       "[]"
      ]
     },
     "execution_count": 28,
     "metadata": {},
     "output_type": "execute_result"
    }
   ],
   "source": [
    "driver.get_log('driver') # Logs gerados pelo selenium"
   ]
  },
  {
   "cell_type": "code",
   "execution_count": 29,
   "metadata": {},
   "outputs": [],
   "source": [
    "driver.get('https://www.magazineluiza.com.br')"
   ]
  },
  {
   "cell_type": "code",
   "execution_count": 30,
   "metadata": {},
   "outputs": [
    {
     "data": {
      "text/plain": [
       "[{'level': 'WARNING',\n",
       "  'message': 'https://www.magazineluiza.com.br/mixer/_next/static/chunks/6473-d086b15bc67a7c04.js 0:2446 MaxListenersExceededWarning: Possible EventEmitter memory leak detected. 11 pageview listeners added. Use emitter.setMaxListeners() to increase limit\\n    at c (https://www.magazineluiza.com.br/mixer/_next/static/chunks/6473-d086b15bc67a7c04.js:1:2196)\\n    at o.addListener (https://www.magazineluiza.com.br/mixer/_next/static/chunks/6473-d086b15bc67a7c04.js:1:4749)\\n    at t.value (https://www.magazineluiza.com.br/mixer/_next/static/chunks/8354-2221b12827759e61.js:1:42695)\\n    at https://www.magazineluiza.com.br/mixer/_next/static/chunks/8354-2221b12827759e61.js:1:42957\\n    at Array.forEach (<anonymous>)\\n    at https://www.magazineluiza.com.br/mixer/_next/static/chunks/8354-2221b12827759e61.js:1:42935\\n    at Array.forEach (<anonymous>)\\n    at t.value (https://www.magazineluiza.com.br/mixer/_next/static/chunks/8354-2221b12827759e61.js:1:42863)\\n    at G (https://www.magazineluiza.com.br/mixer/_next/static/chunks/8354-2221b12827759e61.js:1:43761)\\n    at av (https://www.magazineluiza.com.br/mixer/_next/static/chunks/framework-3b35a0adeb4f5e0a.js:8:58848)',\n",
       "  'source': 'console-api',\n",
       "  'timestamp': 1744286177337},\n",
       " {'level': 'SEVERE',\n",
       "  'message': 'https://static.ads-twitter.com/uwt.js - Failed to load resource: net::ERR_NAME_NOT_RESOLVED',\n",
       "  'source': 'network',\n",
       "  'timestamp': 1744286199372}]"
      ]
     },
     "execution_count": 30,
     "metadata": {},
     "output_type": "execute_result"
    }
   ],
   "source": [
    "driver.get_log('browser') # Logs gerados pelo browser"
   ]
  },
  {
   "cell_type": "code",
   "execution_count": 31,
   "metadata": {},
   "outputs": [],
   "source": [
    "driver.get('http://localhost:8000/#/exemplo/11') # Declaro pagina que estou acessando"
   ]
  },
  {
   "cell_type": "markdown",
   "metadata": {},
   "source": [
    "# Executando JavaScript pelo selenium"
   ]
  },
  {
   "cell_type": "code",
   "execution_count": 32,
   "metadata": {},
   "outputs": [
    {
     "data": {
      "text/plain": [
       "'Exemplo 11'"
      ]
     },
     "execution_count": 32,
     "metadata": {},
     "output_type": "execute_result"
    }
   ],
   "source": [
    "driver.execute_script('return document.title') # Declaro que quero executar um comando JavaScript no driver"
   ]
  },
  {
   "cell_type": "code",
   "execution_count": 52,
   "metadata": {},
   "outputs": [],
   "source": [
    "driver.execute_script('console.log(\"Olá mundo\")')"
   ]
  },
  {
   "cell_type": "code",
   "execution_count": null,
   "metadata": {},
   "outputs": [],
   "source": [
    "driver.execute_script('setInterval(() => console.log(\"Olá mundo\"), 1000)') # Defino funcao em JavaScript que a cada 1000 milisegundo ele executa console.log(\"Olá mundo\")"
   ]
  },
  {
   "cell_type": "code",
   "execution_count": 56,
   "metadata": {},
   "outputs": [],
   "source": [
    "driver.execute_script('Array(30).fill(0).map((_, index) => console.error(\"erro ${index} econtrado\"))')"
   ]
  }
 ],
 "metadata": {
  "kernelspec": {
   "display_name": "venv",
   "language": "python",
   "name": "python3"
  },
  "language_info": {
   "codemirror_mode": {
    "name": "ipython",
    "version": 3
   },
   "file_extension": ".py",
   "mimetype": "text/x-python",
   "name": "python",
   "nbconvert_exporter": "python",
   "pygments_lexer": "ipython3",
   "version": "3.13.1"
  }
 },
 "nbformat": 4,
 "nbformat_minor": 2
}
