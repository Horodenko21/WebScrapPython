{
 "cells": [
  {
   "cell_type": "code",
   "execution_count": 145,
   "metadata": {},
   "outputs": [],
   "source": [
    "from selenium import webdriver # Importa driver para navegadores pelo selenium\n",
    "from selenium.webdriver.common.by import By # Importando classe By que server para selecionar os elementos\n",
    "from selenium.webdriver.common.keys import Keys # Importo todas as teclas do teclado pelo pacote do Selenium\n",
    "from selenium.webdriver.support.ui import Select # Import necessario para selecao de elementos em dropdown/selector\n",
    "from selenium.webdriver.support.wait import WebDriverWait # Import da classe WAIT, serve para dizer o quanto se deve esperar pro navegador\n",
    "from selenium.webdriver.support import expected_conditions as EC # Import de expected_conditions, e da nome reduzido (alias) EC\n",
    "from dataclasses import dataclass # Import dataclass, como se fosse um objeto\n",
    "import urllib.request # Import request para fazer uma requisicao para um determinado link e pegar todas as informacoes de determinado link\n",
    "import os # Permite trabalhar com o Sistema Operacional\n",
    "\n",
    "driver = webdriver.Chrome() # Declara que driver é do chrome\n",
    "driver.implicitly_wait(time_to_wait=15)"
   ]
  },
  {
   "cell_type": "code",
   "execution_count": 146,
   "metadata": {},
   "outputs": [],
   "source": [
    "driver.get('http://localhost:8000/#/desafio/2') # Declaro pagina que estou acessando"
   ]
  },
  {
   "cell_type": "code",
   "execution_count": 147,
   "metadata": {},
   "outputs": [],
   "source": [
    "@dataclass\n",
    "class Usuario:\n",
    "    foto: str\n",
    "    nome: str\n",
    "    profissao: str\n",
    "    email: str\n",
    "    telefone: str\n",
    "    user: str\n",
    "    estado: str"
   ]
  },
  {
   "cell_type": "code",
   "execution_count": 148,
   "metadata": {},
   "outputs": [],
   "source": [
    "pesquisa = driver.find_element(By.CSS_SELECTOR, 'main input[type=\"text\"]')\n",
    "pesquisaBtn = driver.find_element(By.CSS_SELECTOR, 'main button')"
   ]
  },
  {
   "cell_type": "code",
   "execution_count": 149,
   "metadata": {},
   "outputs": [],
   "source": [
    "driver.switch_to.new_window()"
   ]
  },
  {
   "cell_type": "code",
   "execution_count": 150,
   "metadata": {},
   "outputs": [],
   "source": [
    "driver.get('http://localhost:8000/#/desafio/3')"
   ]
  },
  {
   "cell_type": "code",
   "execution_count": 151,
   "metadata": {},
   "outputs": [],
   "source": [
    "nomeCompleto = driver.find_element(By.CSS_SELECTOR, r'#radix-\\:r0\\:')\n",
    "job = driver.find_element(By.CSS_SELECTOR, r'#radix-\\:r1\\:')\n",
    "mail = driver.find_element(By.CSS_SELECTOR, r'#radix-\\:r2\\:')\n",
    "fone = driver.find_element(By.CSS_SELECTOR, r'#radix-\\:r3\\:')\n",
    "usuarioName = driver.find_element(By.CSS_SELECTOR, r'#radix-\\:r4\\:')\n",
    "state = Select(driver.find_element(By.CSS_SELECTOR, r'#radix-\\:r5\\:'))\n",
    "send = driver.find_element(By.CSS_SELECTOR, 'main button[type=\"submit\"]')"
   ]
  },
  {
   "cell_type": "code",
   "execution_count": 152,
   "metadata": {},
   "outputs": [],
   "source": [
    "abas = driver.window_handles\n",
    "\n",
    "windows = []\n",
    "\n",
    "for aba in abas:\n",
    "    driver.switch_to.window(window_name=aba)\n",
    "    windows.append(aba)\n",
    "\n",
    "# Aba Desafio 2 = windows[0]\n",
    "# Aba Desafio 3 = windows[1]"
   ]
  },
  {
   "cell_type": "code",
   "execution_count": 153,
   "metadata": {},
   "outputs": [],
   "source": [
    "driver.switch_to.window(window_name=windows[1])"
   ]
  },
  {
   "cell_type": "code",
   "execution_count": 154,
   "metadata": {},
   "outputs": [
    {
     "ename": "NoSuchElementException",
     "evalue": "Message: no such element: Unable to locate element: {\"method\":\"css selector\",\"selector\":\"p span#usuario\"}\n  (Session info: chrome=134.0.6998.178); For documentation on this error, please visit: https://www.selenium.dev/documentation/webdriver/troubleshooting/errors#no-such-element-exception\nStacktrace:\n\tGetHandleVerifier [0x00007FF7AC7F4C25+3179557]\n\t(No symbol) [0x00007FF7AC4588A0]\n\t(No symbol) [0x00007FF7AC2E91CA]\n\t(No symbol) [0x00007FF7AC33FA67]\n\t(No symbol) [0x00007FF7AC33FC9C]\n\t(No symbol) [0x00007FF7AC393627]\n\t(No symbol) [0x00007FF7AC367C6F]\n\t(No symbol) [0x00007FF7AC3902F3]\n\t(No symbol) [0x00007FF7AC367A03]\n\t(No symbol) [0x00007FF7AC3306D0]\n\t(No symbol) [0x00007FF7AC331983]\n\tGetHandleVerifier [0x00007FF7AC8567CD+3579853]\n\tGetHandleVerifier [0x00007FF7AC86D1D2+3672530]\n\tGetHandleVerifier [0x00007FF7AC862153+3627347]\n\tGetHandleVerifier [0x00007FF7AC5C092A+868650]\n\t(No symbol) [0x00007FF7AC462FFF]\n\t(No symbol) [0x00007FF7AC45F4A4]\n\t(No symbol) [0x00007FF7AC45F646]\n\t(No symbol) [0x00007FF7AC44EAA9]\n\tBaseThreadInitThunk [0x00007FFA7C34E8D7+23]\n\tRtlUserThreadStart [0x00007FFA7CAFBF6C+44]\n",
     "output_type": "error",
     "traceback": [
      "\u001b[31m---------------------------------------------------------------------------\u001b[39m",
      "\u001b[31mNoSuchElementException\u001b[39m                    Traceback (most recent call last)",
      "\u001b[36mCell\u001b[39m\u001b[36m \u001b[39m\u001b[32mIn[154]\u001b[39m\u001b[32m, line 9\u001b[39m\n\u001b[32m      5\u001b[39m \u001b[38;5;28;01mwhile\u001b[39;00m loop:\n\u001b[32m      7\u001b[39m     data = []\n\u001b[32m----> \u001b[39m\u001b[32m9\u001b[39m     userName = \u001b[43mdriver\u001b[49m\u001b[43m.\u001b[49m\u001b[43mfind_element\u001b[49m\u001b[43m(\u001b[49m\u001b[43mBy\u001b[49m\u001b[43m.\u001b[49m\u001b[43mCSS_SELECTOR\u001b[49m\u001b[43m,\u001b[49m\u001b[43m \u001b[49m\u001b[33;43m'\u001b[39;49m\u001b[33;43mp span#usuario\u001b[39;49m\u001b[33;43m'\u001b[39;49m\u001b[43m)\u001b[49m.text\n\u001b[32m     10\u001b[39m     driver.switch_to.window(window_name=windows[\u001b[32m0\u001b[39m])\n\u001b[32m     12\u001b[39m     \u001b[38;5;66;03m# Preenche info de pesquisa\u001b[39;00m\n",
      "\u001b[36mFile \u001b[39m\u001b[32mc:\\Users\\leoho\\OneDrive\\Área de Trabalho\\Dev\\AmbientesVirtual\\PythonWebScraping\\venv\\Lib\\site-packages\\selenium\\webdriver\\remote\\webdriver.py:898\u001b[39m, in \u001b[36mWebDriver.find_element\u001b[39m\u001b[34m(self, by, value)\u001b[39m\n\u001b[32m    895\u001b[39m         \u001b[38;5;28;01mraise\u001b[39;00m NoSuchElementException(\u001b[33mf\u001b[39m\u001b[33m\"\u001b[39m\u001b[33mCannot locate relative element with: \u001b[39m\u001b[38;5;132;01m{\u001b[39;00mby.root\u001b[38;5;132;01m}\u001b[39;00m\u001b[33m\"\u001b[39m)\n\u001b[32m    896\u001b[39m     \u001b[38;5;28;01mreturn\u001b[39;00m elements[\u001b[32m0\u001b[39m]\n\u001b[32m--> \u001b[39m\u001b[32m898\u001b[39m \u001b[38;5;28;01mreturn\u001b[39;00m \u001b[38;5;28;43mself\u001b[39;49m\u001b[43m.\u001b[49m\u001b[43mexecute\u001b[49m\u001b[43m(\u001b[49m\u001b[43mCommand\u001b[49m\u001b[43m.\u001b[49m\u001b[43mFIND_ELEMENT\u001b[49m\u001b[43m,\u001b[49m\u001b[43m \u001b[49m\u001b[43m{\u001b[49m\u001b[33;43m\"\u001b[39;49m\u001b[33;43musing\u001b[39;49m\u001b[33;43m\"\u001b[39;49m\u001b[43m:\u001b[49m\u001b[43m \u001b[49m\u001b[43mby\u001b[49m\u001b[43m,\u001b[49m\u001b[43m \u001b[49m\u001b[33;43m\"\u001b[39;49m\u001b[33;43mvalue\u001b[39;49m\u001b[33;43m\"\u001b[39;49m\u001b[43m:\u001b[49m\u001b[43m \u001b[49m\u001b[43mvalue\u001b[49m\u001b[43m}\u001b[49m\u001b[43m)\u001b[49m[\u001b[33m\"\u001b[39m\u001b[33mvalue\u001b[39m\u001b[33m\"\u001b[39m]\n",
      "\u001b[36mFile \u001b[39m\u001b[32mc:\\Users\\leoho\\OneDrive\\Área de Trabalho\\Dev\\AmbientesVirtual\\PythonWebScraping\\venv\\Lib\\site-packages\\selenium\\webdriver\\remote\\webdriver.py:429\u001b[39m, in \u001b[36mWebDriver.execute\u001b[39m\u001b[34m(self, driver_command, params)\u001b[39m\n\u001b[32m    427\u001b[39m response = \u001b[38;5;28mself\u001b[39m.command_executor.execute(driver_command, params)\n\u001b[32m    428\u001b[39m \u001b[38;5;28;01mif\u001b[39;00m response:\n\u001b[32m--> \u001b[39m\u001b[32m429\u001b[39m     \u001b[38;5;28;43mself\u001b[39;49m\u001b[43m.\u001b[49m\u001b[43merror_handler\u001b[49m\u001b[43m.\u001b[49m\u001b[43mcheck_response\u001b[49m\u001b[43m(\u001b[49m\u001b[43mresponse\u001b[49m\u001b[43m)\u001b[49m\n\u001b[32m    430\u001b[39m     response[\u001b[33m\"\u001b[39m\u001b[33mvalue\u001b[39m\u001b[33m\"\u001b[39m] = \u001b[38;5;28mself\u001b[39m._unwrap_value(response.get(\u001b[33m\"\u001b[39m\u001b[33mvalue\u001b[39m\u001b[33m\"\u001b[39m, \u001b[38;5;28;01mNone\u001b[39;00m))\n\u001b[32m    431\u001b[39m     \u001b[38;5;28;01mreturn\u001b[39;00m response\n",
      "\u001b[36mFile \u001b[39m\u001b[32mc:\\Users\\leoho\\OneDrive\\Área de Trabalho\\Dev\\AmbientesVirtual\\PythonWebScraping\\venv\\Lib\\site-packages\\selenium\\webdriver\\remote\\errorhandler.py:232\u001b[39m, in \u001b[36mErrorHandler.check_response\u001b[39m\u001b[34m(self, response)\u001b[39m\n\u001b[32m    230\u001b[39m         alert_text = value[\u001b[33m\"\u001b[39m\u001b[33malert\u001b[39m\u001b[33m\"\u001b[39m].get(\u001b[33m\"\u001b[39m\u001b[33mtext\u001b[39m\u001b[33m\"\u001b[39m)\n\u001b[32m    231\u001b[39m     \u001b[38;5;28;01mraise\u001b[39;00m exception_class(message, screen, stacktrace, alert_text)  \u001b[38;5;66;03m# type: ignore[call-arg]  # mypy is not smart enough here\u001b[39;00m\n\u001b[32m--> \u001b[39m\u001b[32m232\u001b[39m \u001b[38;5;28;01mraise\u001b[39;00m exception_class(message, screen, stacktrace)\n",
      "\u001b[31mNoSuchElementException\u001b[39m: Message: no such element: Unable to locate element: {\"method\":\"css selector\",\"selector\":\"p span#usuario\"}\n  (Session info: chrome=134.0.6998.178); For documentation on this error, please visit: https://www.selenium.dev/documentation/webdriver/troubleshooting/errors#no-such-element-exception\nStacktrace:\n\tGetHandleVerifier [0x00007FF7AC7F4C25+3179557]\n\t(No symbol) [0x00007FF7AC4588A0]\n\t(No symbol) [0x00007FF7AC2E91CA]\n\t(No symbol) [0x00007FF7AC33FA67]\n\t(No symbol) [0x00007FF7AC33FC9C]\n\t(No symbol) [0x00007FF7AC393627]\n\t(No symbol) [0x00007FF7AC367C6F]\n\t(No symbol) [0x00007FF7AC3902F3]\n\t(No symbol) [0x00007FF7AC367A03]\n\t(No symbol) [0x00007FF7AC3306D0]\n\t(No symbol) [0x00007FF7AC331983]\n\tGetHandleVerifier [0x00007FF7AC8567CD+3579853]\n\tGetHandleVerifier [0x00007FF7AC86D1D2+3672530]\n\tGetHandleVerifier [0x00007FF7AC862153+3627347]\n\tGetHandleVerifier [0x00007FF7AC5C092A+868650]\n\t(No symbol) [0x00007FF7AC462FFF]\n\t(No symbol) [0x00007FF7AC45F4A4]\n\t(No symbol) [0x00007FF7AC45F646]\n\t(No symbol) [0x00007FF7AC44EAA9]\n\tBaseThreadInitThunk [0x00007FFA7C34E8D7+23]\n\tRtlUserThreadStart [0x00007FFA7CAFBF6C+44]\n"
     ]
    }
   ],
   "source": [
    "wait = WebDriverWait(driver=driver, timeout=15, poll_frequency=1) \n",
    "\n",
    "loop = True\n",
    "\n",
    "while loop:\n",
    "    \n",
    "    data = []\n",
    "\n",
    "    userName = driver.find_element(By.CSS_SELECTOR, 'p span#usuario').text\n",
    "    driver.switch_to.window(window_name=windows[0])\n",
    "\n",
    "    # Preenche info de pesquisa\n",
    "    pesquisa.clear()\n",
    "    pesquisa.send_keys(userName)\n",
    "\n",
    "    # Espero ate que botao seja clickavel para pesquisar e fazer a pesquisa\n",
    "    wait.until(EC.element_to_be_clickable(mark=pesquisaBtn))\n",
    "    pesquisaBtn.click()\n",
    "\n",
    "    # Obtenho todos usuarios na busca (Espero imagens serem carregadas)\n",
    "    locator = (By.CSS_SELECTOR, 'div.users-list > div > img')\n",
    "    wait.until(EC.visibility_of_all_elements_located(locator=locator))\n",
    "    usuarios = driver.find_elements(By.CSS_SELECTOR, 'div.users-list > div')\n",
    "\n",
    "    for u in usuarios:\n",
    "\n",
    "        imgPath = u.find_element(By.TAG_NAME, 'img').get_attribute('src')\n",
    "        nome = u.find_element(By.TAG_NAME, 'h3').text\n",
    "        profissao = u.find_element(By.TAG_NAME, 'span').text\n",
    "        email = u.find_element(By.CSS_SELECTOR, 'ul > li:nth-child(1)').text\n",
    "        telefone = u.find_element(By.CSS_SELECTOR, 'ul > li:nth-child(2)').text\n",
    "        user = u.find_element(By.CSS_SELECTOR, 'ul > li:nth-child(3)').text\n",
    "        estado = u.find_element(By.CSS_SELECTOR, 'ul > li:nth-child(4)').text\n",
    "\n",
    "        userData = Usuario(\n",
    "            foto = imgPath,\n",
    "            nome = nome,\n",
    "            profissao = profissao,\n",
    "            email = email[8:],\n",
    "            telefone = telefone[10:],\n",
    "            user = user[9:],\n",
    "            estado = estado[8:]\n",
    "        )\n",
    "\n",
    "        data.append(userData)\n",
    "    \n",
    "    driver.switch_to.window(window_name=windows[1])\n",
    "    for u in data:\n",
    "        nomeCompleto.clear()\n",
    "        job.clear()\n",
    "        mail.clear()\n",
    "        fone.clear()\n",
    "        usuarioName.clear()\n",
    "        state.select_by_visible_text('Distrito Federal')\n",
    "\n",
    "        nomeCompleto.send_keys(u.nome)\n",
    "        job.send_keys(u.profissao)\n",
    "        mail.send_keys(u.email)\n",
    "        fone.send_keys(u.telefone)\n",
    "        usuarioName.send_keys(u.user)\n",
    "        state.select_by_visible_text(u.estado)\n",
    "\n",
    "        send.click()"
   ]
  }
 ],
 "metadata": {
  "kernelspec": {
   "display_name": "venv",
   "language": "python",
   "name": "python3"
  },
  "language_info": {
   "codemirror_mode": {
    "name": "ipython",
    "version": 3
   },
   "file_extension": ".py",
   "mimetype": "text/x-python",
   "name": "python",
   "nbconvert_exporter": "python",
   "pygments_lexer": "ipython3",
   "version": "3.13.1"
  }
 },
 "nbformat": 4,
 "nbformat_minor": 2
}
